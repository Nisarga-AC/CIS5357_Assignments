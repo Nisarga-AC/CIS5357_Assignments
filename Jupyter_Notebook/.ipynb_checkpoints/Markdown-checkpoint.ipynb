{
 "cells": [
  {
   "cell_type": "markdown",
   "id": "08ac2cd2",
   "metadata": {},
   "source": [
    "# Heading1\n",
    "## How are you Today \n",
    "### Hope you doing well !\n"
   ]
  },
  {
   "cell_type": "markdown",
   "id": "0aaaf161",
   "metadata": {},
   "source": [
    "This is used to read the file in CSV "
   ]
  },
  {
   "cell_type": "markdown",
   "id": "cf97d660",
   "metadata": {},
   "source": [
    "* Hello \n",
    "* How are you Today\n",
    "* How is work in office "
   ]
  },
  {
   "cell_type": "markdown",
   "id": "891e3066",
   "metadata": {},
   "source": [
    "[Class7 folder](https://txst-my.sharepoint.com/personal/iml53_txstate_edu/_layouts/15/onedrive.aspx?login_hint=iml53%40txstate%2Eedu&id=%2Fpersonal%2Fiml53%5Ftxstate%5Fedu%2FDocuments%2FFall%202023%20%2D%20MS%20in%20DATA%20ANALYTICS%20%26%20INFORMATION%20SYSTEMS%2FCIS%2D5357%20COMPUTING%20FOR%20DATA%20ANALYTICS%2FClassroom%2FClass7%20%2D%2010%2E10%2E2023&view=0)"
   ]
  },
  {
   "cell_type": "markdown",
   "id": "f7b1f38e",
   "metadata": {},
   "source": [
    "![DBMS_Midterm_answer](/Users/harshams/Desktop/DBMS_Assignments/Midterm_DBMS)"
   ]
  },
  {
   "cell_type": "markdown",
   "id": "d0d34168",
   "metadata": {},
   "source": [
    "Nisarga is amazing girl  \n",
    "she is beautiful and **intelligent** girl  \n",
    "**_I love her so much_** \n",
    "she is innocent girl  "
   ]
  },
  {
   "cell_type": "markdown",
   "id": "1d1624b3",
   "metadata": {},
   "source": [
    "1.Item1  \n",
    "2.Item2  \n",
    "3.Item3  \n"
   ]
  },
  {
   "cell_type": "markdown",
   "id": "9ab18180",
   "metadata": {},
   "source": []
  }
 ],
 "metadata": {
  "kernelspec": {
   "display_name": "Python 3 (ipykernel)",
   "language": "python",
   "name": "python3"
  },
  "language_info": {
   "codemirror_mode": {
    "name": "ipython",
    "version": 3
   },
   "file_extension": ".py",
   "mimetype": "text/x-python",
   "name": "python",
   "nbconvert_exporter": "python",
   "pygments_lexer": "ipython3",
   "version": "3.11.0"
  }
 },
 "nbformat": 4,
 "nbformat_minor": 5
}
