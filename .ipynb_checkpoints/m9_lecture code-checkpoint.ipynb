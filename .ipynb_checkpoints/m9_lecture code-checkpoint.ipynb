{
 "cells": [
  {
   "cell_type": "markdown",
   "metadata": {},
   "source": [
    "# Module 9"
   ]
  },
  {
   "cell_type": "markdown",
   "metadata": {},
   "source": [
    "### Exploring and visualizing data (Chapter 6)"
   ]
  },
  {
   "cell_type": "code",
   "execution_count": 3,
   "metadata": {},
   "outputs": [],
   "source": [
    "import pandas as pd"
   ]
  },
  {
   "cell_type": "code",
   "execution_count": 5,
   "metadata": {},
   "outputs": [],
   "source": [
    "#change the path here as needed\n",
    "df_orders = pd.read_pickle('Chapter 5/orders.pickle')\n",
    "df_summarized_orders = (pd.read_pickle('Chapter 5/summarized_orders.pickle') )\n",
    "df_items = pd.read_pickle('Chapter 5/items.pickle')\n",
    "df_restaurants = (pd.read_pickle('Chapter 5/restaurants.pickle') ) "
   ]
  },
  {
   "cell_type": "markdown",
   "metadata": {},
   "source": [
    "### Exploring data"
   ]
  },
  {
   "cell_type": "code",
   "execution_count": 6,
   "metadata": {},
   "outputs": [
    {
     "data": {
      "text/html": [
       "<div>\n",
       "<style scoped>\n",
       "    .dataframe tbody tr th:only-of-type {\n",
       "        vertical-align: middle;\n",
       "    }\n",
       "\n",
       "    .dataframe tbody tr th {\n",
       "        vertical-align: top;\n",
       "    }\n",
       "\n",
       "    .dataframe thead th {\n",
       "        text-align: right;\n",
       "    }\n",
       "</style>\n",
       "<table border=\"1\" class=\"dataframe\">\n",
       "  <thead>\n",
       "    <tr style=\"text-align: right;\">\n",
       "      <th></th>\n",
       "      <th>RESTAURANT_NAME</th>\n",
       "      <th>DATE</th>\n",
       "      <th>NUM_ORDERS</th>\n",
       "      <th>PERC_DELIVERY</th>\n",
       "    </tr>\n",
       "  </thead>\n",
       "  <tbody>\n",
       "    <tr>\n",
       "      <th>0</th>\n",
       "      <td>Bryant Park</td>\n",
       "      <td>2018-01-01</td>\n",
       "      <td>373</td>\n",
       "      <td>0.0</td>\n",
       "    </tr>\n",
       "    <tr>\n",
       "      <th>1</th>\n",
       "      <td>Bryant Park</td>\n",
       "      <td>2018-01-02</td>\n",
       "      <td>789</td>\n",
       "      <td>0.0</td>\n",
       "    </tr>\n",
       "    <tr>\n",
       "      <th>2</th>\n",
       "      <td>Bryant Park</td>\n",
       "      <td>2018-01-03</td>\n",
       "      <td>818</td>\n",
       "      <td>0.0</td>\n",
       "    </tr>\n",
       "    <tr>\n",
       "      <th>3</th>\n",
       "      <td>Bryant Park</td>\n",
       "      <td>2018-01-04</td>\n",
       "      <td>782</td>\n",
       "      <td>0.0</td>\n",
       "    </tr>\n",
       "    <tr>\n",
       "      <th>4</th>\n",
       "      <td>Bryant Park</td>\n",
       "      <td>2018-01-05</td>\n",
       "      <td>719</td>\n",
       "      <td>0.0</td>\n",
       "    </tr>\n",
       "  </tbody>\n",
       "</table>\n",
       "</div>"
      ],
      "text/plain": [
       "  RESTAURANT_NAME       DATE  NUM_ORDERS  PERC_DELIVERY\n",
       "0     Bryant Park 2018-01-01         373            0.0\n",
       "1     Bryant Park 2018-01-02         789            0.0\n",
       "2     Bryant Park 2018-01-03         818            0.0\n",
       "3     Bryant Park 2018-01-04         782            0.0\n",
       "4     Bryant Park 2018-01-05         719            0.0"
      ]
     },
     "execution_count": 6,
     "metadata": {},
     "output_type": "execute_result"
    }
   ],
   "source": [
    "df_summarized_orders.head()"
   ]
  },
  {
   "cell_type": "code",
   "execution_count": 6,
   "metadata": {},
   "outputs": [
    {
     "data": {
      "text/html": [
       "<div>\n",
       "<style scoped>\n",
       "    .dataframe tbody tr th:only-of-type {\n",
       "        vertical-align: middle;\n",
       "    }\n",
       "\n",
       "    .dataframe tbody tr th {\n",
       "        vertical-align: top;\n",
       "    }\n",
       "\n",
       "    .dataframe thead th {\n",
       "        text-align: right;\n",
       "    }\n",
       "</style>\n",
       "<table border=\"1\" class=\"dataframe\">\n",
       "  <thead>\n",
       "    <tr style=\"text-align: right;\">\n",
       "      <th></th>\n",
       "      <th>NUM_ORDERS</th>\n",
       "      <th>PERC_DELIVERY</th>\n",
       "    </tr>\n",
       "  </thead>\n",
       "  <tbody>\n",
       "    <tr>\n",
       "      <th>count</th>\n",
       "      <td>2806.000000</td>\n",
       "      <td>2806.000000</td>\n",
       "    </tr>\n",
       "    <tr>\n",
       "      <th>mean</th>\n",
       "      <td>850.756949</td>\n",
       "      <td>0.116700</td>\n",
       "    </tr>\n",
       "    <tr>\n",
       "      <th>std</th>\n",
       "      <td>195.490367</td>\n",
       "      <td>0.055078</td>\n",
       "    </tr>\n",
       "    <tr>\n",
       "      <th>min</th>\n",
       "      <td>200.000000</td>\n",
       "      <td>0.000000</td>\n",
       "    </tr>\n",
       "    <tr>\n",
       "      <th>25%</th>\n",
       "      <td>739.000000</td>\n",
       "      <td>0.090095</td>\n",
       "    </tr>\n",
       "    <tr>\n",
       "      <th>50%</th>\n",
       "      <td>833.000000</td>\n",
       "      <td>0.104963</td>\n",
       "    </tr>\n",
       "    <tr>\n",
       "      <th>75%</th>\n",
       "      <td>949.000000</td>\n",
       "      <td>0.152853</td>\n",
       "    </tr>\n",
       "    <tr>\n",
       "      <th>max</th>\n",
       "      <td>1396.000000</td>\n",
       "      <td>0.360215</td>\n",
       "    </tr>\n",
       "  </tbody>\n",
       "</table>\n",
       "</div>"
      ],
      "text/plain": [
       "        NUM_ORDERS  PERC_DELIVERY\n",
       "count  2806.000000    2806.000000\n",
       "mean    850.756949       0.116700\n",
       "std     195.490367       0.055078\n",
       "min     200.000000       0.000000\n",
       "25%     739.000000       0.090095\n",
       "50%     833.000000       0.104963\n",
       "75%     949.000000       0.152853\n",
       "max    1396.000000       0.360215"
      ]
     },
     "execution_count": 6,
     "metadata": {},
     "output_type": "execute_result"
    }
   ],
   "source": [
    "df_summarized_orders.describe()"
   ]
  },
  {
   "cell_type": "code",
   "execution_count": 8,
   "metadata": {},
   "outputs": [
    {
     "data": {
      "text/plain": [
       "850.7569493941554"
      ]
     },
     "execution_count": 8,
     "metadata": {},
     "output_type": "execute_result"
    }
   ],
   "source": [
    "df_summarized_orders.NUM_ORDERS.mean()"
   ]
  },
  {
   "cell_type": "code",
   "execution_count": 9,
   "metadata": {},
   "outputs": [
    {
     "data": {
      "text/plain": [
       "-0.19667409216417953"
      ]
     },
     "execution_count": 9,
     "metadata": {},
     "output_type": "execute_result"
    }
   ],
   "source": [
    "df_summarized_orders.NUM_ORDERS.corr(df_summarized_orders.PERC_DELIVERY)"
   ]
  },
  {
   "cell_type": "code",
   "execution_count": 49,
   "metadata": {},
   "outputs": [
    {
     "data": {
      "text/html": [
       "<div>\n",
       "<style scoped>\n",
       "    .dataframe tbody tr th:only-of-type {\n",
       "        vertical-align: middle;\n",
       "    }\n",
       "\n",
       "    .dataframe tbody tr th {\n",
       "        vertical-align: top;\n",
       "    }\n",
       "\n",
       "    .dataframe thead th {\n",
       "        text-align: right;\n",
       "    }\n",
       "</style>\n",
       "<table border=\"1\" class=\"dataframe\">\n",
       "  <thead>\n",
       "    <tr style=\"text-align: right;\">\n",
       "      <th></th>\n",
       "      <th>ORDER_ID</th>\n",
       "      <th>DATETIME</th>\n",
       "      <th>RESTAURANT_ID</th>\n",
       "      <th>TYPE</th>\n",
       "      <th>DRINKS</th>\n",
       "      <th>COOKIES</th>\n",
       "      <th>MAIN</th>\n",
       "      <th>BASE</th>\n",
       "      <th>SIDE_1</th>\n",
       "      <th>SIDE_2</th>\n",
       "    </tr>\n",
       "  </thead>\n",
       "  <tbody>\n",
       "    <tr>\n",
       "      <th>0</th>\n",
       "      <td>O1820060</td>\n",
       "      <td>2018-10-11 17:25:50</td>\n",
       "      <td>R10002</td>\n",
       "      <td>IN_STORE</td>\n",
       "      <td>1.0</td>\n",
       "      <td>2.0</td>\n",
       "      <td>NaN</td>\n",
       "      <td>NaN</td>\n",
       "      <td>NaN</td>\n",
       "      <td>NaN</td>\n",
       "    </tr>\n",
       "    <tr>\n",
       "      <th>1</th>\n",
       "      <td>O1011112</td>\n",
       "      <td>2018-05-31 11:35:00</td>\n",
       "      <td>R10003</td>\n",
       "      <td>IN_STORE</td>\n",
       "      <td>0.0</td>\n",
       "      <td>0.0</td>\n",
       "      <td>NaN</td>\n",
       "      <td>NaN</td>\n",
       "      <td>NaN</td>\n",
       "      <td>NaN</td>\n",
       "    </tr>\n",
       "    <tr>\n",
       "      <th>2</th>\n",
       "      <td>O752854</td>\n",
       "      <td>2018-04-21 18:12:57</td>\n",
       "      <td>R10001</td>\n",
       "      <td>DELIVERY</td>\n",
       "      <td>0.0</td>\n",
       "      <td>2.0</td>\n",
       "      <td>I0</td>\n",
       "      <td>I7</td>\n",
       "      <td>I15</td>\n",
       "      <td>I14</td>\n",
       "    </tr>\n",
       "    <tr>\n",
       "      <th>3</th>\n",
       "      <td>O2076864</td>\n",
       "      <td>2018-11-17 12:50:52</td>\n",
       "      <td>R10005</td>\n",
       "      <td>PICKUP</td>\n",
       "      <td>1.0</td>\n",
       "      <td>0.0</td>\n",
       "      <td>I0</td>\n",
       "      <td>I5</td>\n",
       "      <td>I9</td>\n",
       "      <td>I12</td>\n",
       "    </tr>\n",
       "    <tr>\n",
       "      <th>4</th>\n",
       "      <td>O1988898</td>\n",
       "      <td>2018-11-04 18:37:24</td>\n",
       "      <td>R10008</td>\n",
       "      <td>IN_STORE</td>\n",
       "      <td>0.0</td>\n",
       "      <td>0.0</td>\n",
       "      <td>I1</td>\n",
       "      <td>I7</td>\n",
       "      <td>I9</td>\n",
       "      <td>I9</td>\n",
       "    </tr>\n",
       "  </tbody>\n",
       "</table>\n",
       "</div>"
      ],
      "text/plain": [
       "   ORDER_ID            DATETIME RESTAURANT_ID      TYPE  DRINKS  COOKIES MAIN  \\\n",
       "0  O1820060 2018-10-11 17:25:50        R10002  IN_STORE     1.0      2.0  NaN   \n",
       "1  O1011112 2018-05-31 11:35:00        R10003  IN_STORE     0.0      0.0  NaN   \n",
       "2   O752854 2018-04-21 18:12:57        R10001  DELIVERY     0.0      2.0   I0   \n",
       "3  O2076864 2018-11-17 12:50:52        R10005    PICKUP     1.0      0.0   I0   \n",
       "4  O1988898 2018-11-04 18:37:24        R10008  IN_STORE     0.0      0.0   I1   \n",
       "\n",
       "  BASE SIDE_1 SIDE_2  \n",
       "0  NaN    NaN    NaN  \n",
       "1  NaN    NaN    NaN  \n",
       "2   I7    I15    I14  \n",
       "3   I5     I9    I12  \n",
       "4   I7     I9     I9  "
      ]
     },
     "execution_count": 49,
     "metadata": {},
     "output_type": "execute_result"
    }
   ],
   "source": [
    "df_orders.head()"
   ]
  },
  {
   "cell_type": "code",
   "execution_count": 59,
   "metadata": {},
   "outputs": [
    {
     "data": {
      "text/plain": [
       "array([2., 0., 1.])"
      ]
     },
     "execution_count": 59,
     "metadata": {},
     "output_type": "execute_result"
    }
   ],
   "source": [
    "df_orders.COOKIES.unique()"
   ]
  },
  {
   "cell_type": "code",
   "execution_count": 68,
   "metadata": {},
   "outputs": [
    {
     "data": {
      "text/plain": [
       "[2.0, 0.0, 1.0]"
      ]
     },
     "execution_count": 68,
     "metadata": {},
     "output_type": "execute_result"
    }
   ],
   "source": [
    "df_orders.COOKIES.unique().tolist()"
   ]
  },
  {
   "cell_type": "code",
   "execution_count": 89,
   "metadata": {},
   "outputs": [
    {
     "data": {
      "text/plain": [
       "[0.0, 1.0, 2.0]"
      ]
     },
     "execution_count": 89,
     "metadata": {},
     "output_type": "execute_result"
    }
   ],
   "source": [
    "sorted(df_orders.COOKIES.unique().tolist())"
   ]
  },
  {
   "cell_type": "code",
   "execution_count": 52,
   "metadata": {},
   "outputs": [],
   "source": [
    "df_orders['ONE_TWO_COOKIES'] = df_orders.COOKIES.isin([1,2])"
   ]
  },
  {
   "cell_type": "code",
   "execution_count": 53,
   "metadata": {},
   "outputs": [
    {
     "data": {
      "text/html": [
       "<div>\n",
       "<style scoped>\n",
       "    .dataframe tbody tr th:only-of-type {\n",
       "        vertical-align: middle;\n",
       "    }\n",
       "\n",
       "    .dataframe tbody tr th {\n",
       "        vertical-align: top;\n",
       "    }\n",
       "\n",
       "    .dataframe thead th {\n",
       "        text-align: right;\n",
       "    }\n",
       "</style>\n",
       "<table border=\"1\" class=\"dataframe\">\n",
       "  <thead>\n",
       "    <tr style=\"text-align: right;\">\n",
       "      <th></th>\n",
       "      <th>ORDER_ID</th>\n",
       "      <th>DATETIME</th>\n",
       "      <th>RESTAURANT_ID</th>\n",
       "      <th>TYPE</th>\n",
       "      <th>DRINKS</th>\n",
       "      <th>COOKIES</th>\n",
       "      <th>MAIN</th>\n",
       "      <th>BASE</th>\n",
       "      <th>SIDE_1</th>\n",
       "      <th>SIDE_2</th>\n",
       "      <th>ONE_TWO_COOKIES</th>\n",
       "    </tr>\n",
       "  </thead>\n",
       "  <tbody>\n",
       "    <tr>\n",
       "      <th>0</th>\n",
       "      <td>O1820060</td>\n",
       "      <td>2018-10-11 17:25:50</td>\n",
       "      <td>R10002</td>\n",
       "      <td>IN_STORE</td>\n",
       "      <td>1.0</td>\n",
       "      <td>2.0</td>\n",
       "      <td>NaN</td>\n",
       "      <td>NaN</td>\n",
       "      <td>NaN</td>\n",
       "      <td>NaN</td>\n",
       "      <td>True</td>\n",
       "    </tr>\n",
       "    <tr>\n",
       "      <th>1</th>\n",
       "      <td>O1011112</td>\n",
       "      <td>2018-05-31 11:35:00</td>\n",
       "      <td>R10003</td>\n",
       "      <td>IN_STORE</td>\n",
       "      <td>0.0</td>\n",
       "      <td>0.0</td>\n",
       "      <td>NaN</td>\n",
       "      <td>NaN</td>\n",
       "      <td>NaN</td>\n",
       "      <td>NaN</td>\n",
       "      <td>False</td>\n",
       "    </tr>\n",
       "    <tr>\n",
       "      <th>2</th>\n",
       "      <td>O752854</td>\n",
       "      <td>2018-04-21 18:12:57</td>\n",
       "      <td>R10001</td>\n",
       "      <td>DELIVERY</td>\n",
       "      <td>0.0</td>\n",
       "      <td>2.0</td>\n",
       "      <td>I0</td>\n",
       "      <td>I7</td>\n",
       "      <td>I15</td>\n",
       "      <td>I14</td>\n",
       "      <td>True</td>\n",
       "    </tr>\n",
       "    <tr>\n",
       "      <th>3</th>\n",
       "      <td>O2076864</td>\n",
       "      <td>2018-11-17 12:50:52</td>\n",
       "      <td>R10005</td>\n",
       "      <td>PICKUP</td>\n",
       "      <td>1.0</td>\n",
       "      <td>0.0</td>\n",
       "      <td>I0</td>\n",
       "      <td>I5</td>\n",
       "      <td>I9</td>\n",
       "      <td>I12</td>\n",
       "      <td>False</td>\n",
       "    </tr>\n",
       "    <tr>\n",
       "      <th>4</th>\n",
       "      <td>O1988898</td>\n",
       "      <td>2018-11-04 18:37:24</td>\n",
       "      <td>R10008</td>\n",
       "      <td>IN_STORE</td>\n",
       "      <td>0.0</td>\n",
       "      <td>0.0</td>\n",
       "      <td>I1</td>\n",
       "      <td>I7</td>\n",
       "      <td>I9</td>\n",
       "      <td>I9</td>\n",
       "      <td>False</td>\n",
       "    </tr>\n",
       "  </tbody>\n",
       "</table>\n",
       "</div>"
      ],
      "text/plain": [
       "   ORDER_ID            DATETIME RESTAURANT_ID      TYPE  DRINKS  COOKIES MAIN  \\\n",
       "0  O1820060 2018-10-11 17:25:50        R10002  IN_STORE     1.0      2.0  NaN   \n",
       "1  O1011112 2018-05-31 11:35:00        R10003  IN_STORE     0.0      0.0  NaN   \n",
       "2   O752854 2018-04-21 18:12:57        R10001  DELIVERY     0.0      2.0   I0   \n",
       "3  O2076864 2018-11-17 12:50:52        R10005    PICKUP     1.0      0.0   I0   \n",
       "4  O1988898 2018-11-04 18:37:24        R10008  IN_STORE     0.0      0.0   I1   \n",
       "\n",
       "  BASE SIDE_1 SIDE_2  ONE_TWO_COOKIES  \n",
       "0  NaN    NaN    NaN             True  \n",
       "1  NaN    NaN    NaN            False  \n",
       "2   I7    I15    I14             True  \n",
       "3   I5     I9    I12            False  \n",
       "4   I7     I9     I9            False  "
      ]
     },
     "execution_count": 53,
     "metadata": {},
     "output_type": "execute_result"
    }
   ],
   "source": [
    "df_orders.head()"
   ]
  },
  {
   "cell_type": "code",
   "execution_count": 54,
   "metadata": {},
   "outputs": [],
   "source": [
    "import numpy as np"
   ]
  },
  {
   "cell_type": "code",
   "execution_count": 57,
   "metadata": {},
   "outputs": [],
   "source": [
    "df_orders['COOKIE_PURCHASE'] = np.where(df_orders['COOKIES'] > 0, True, False)"
   ]
  },
  {
   "cell_type": "code",
   "execution_count": 58,
   "metadata": {},
   "outputs": [
    {
     "data": {
      "text/html": [
       "<div>\n",
       "<style scoped>\n",
       "    .dataframe tbody tr th:only-of-type {\n",
       "        vertical-align: middle;\n",
       "    }\n",
       "\n",
       "    .dataframe tbody tr th {\n",
       "        vertical-align: top;\n",
       "    }\n",
       "\n",
       "    .dataframe thead th {\n",
       "        text-align: right;\n",
       "    }\n",
       "</style>\n",
       "<table border=\"1\" class=\"dataframe\">\n",
       "  <thead>\n",
       "    <tr style=\"text-align: right;\">\n",
       "      <th></th>\n",
       "      <th>ORDER_ID</th>\n",
       "      <th>DATETIME</th>\n",
       "      <th>RESTAURANT_ID</th>\n",
       "      <th>TYPE</th>\n",
       "      <th>DRINKS</th>\n",
       "      <th>COOKIES</th>\n",
       "      <th>MAIN</th>\n",
       "      <th>BASE</th>\n",
       "      <th>SIDE_1</th>\n",
       "      <th>SIDE_2</th>\n",
       "      <th>ONE_TWO_COOKIES</th>\n",
       "      <th>COOKIE_PURCHASE</th>\n",
       "    </tr>\n",
       "  </thead>\n",
       "  <tbody>\n",
       "    <tr>\n",
       "      <th>0</th>\n",
       "      <td>O1820060</td>\n",
       "      <td>2018-10-11 17:25:50</td>\n",
       "      <td>R10002</td>\n",
       "      <td>IN_STORE</td>\n",
       "      <td>1.0</td>\n",
       "      <td>2.0</td>\n",
       "      <td>NaN</td>\n",
       "      <td>NaN</td>\n",
       "      <td>NaN</td>\n",
       "      <td>NaN</td>\n",
       "      <td>True</td>\n",
       "      <td>True</td>\n",
       "    </tr>\n",
       "    <tr>\n",
       "      <th>1</th>\n",
       "      <td>O1011112</td>\n",
       "      <td>2018-05-31 11:35:00</td>\n",
       "      <td>R10003</td>\n",
       "      <td>IN_STORE</td>\n",
       "      <td>0.0</td>\n",
       "      <td>0.0</td>\n",
       "      <td>NaN</td>\n",
       "      <td>NaN</td>\n",
       "      <td>NaN</td>\n",
       "      <td>NaN</td>\n",
       "      <td>False</td>\n",
       "      <td>False</td>\n",
       "    </tr>\n",
       "    <tr>\n",
       "      <th>2</th>\n",
       "      <td>O752854</td>\n",
       "      <td>2018-04-21 18:12:57</td>\n",
       "      <td>R10001</td>\n",
       "      <td>DELIVERY</td>\n",
       "      <td>0.0</td>\n",
       "      <td>2.0</td>\n",
       "      <td>I0</td>\n",
       "      <td>I7</td>\n",
       "      <td>I15</td>\n",
       "      <td>I14</td>\n",
       "      <td>True</td>\n",
       "      <td>True</td>\n",
       "    </tr>\n",
       "    <tr>\n",
       "      <th>3</th>\n",
       "      <td>O2076864</td>\n",
       "      <td>2018-11-17 12:50:52</td>\n",
       "      <td>R10005</td>\n",
       "      <td>PICKUP</td>\n",
       "      <td>1.0</td>\n",
       "      <td>0.0</td>\n",
       "      <td>I0</td>\n",
       "      <td>I5</td>\n",
       "      <td>I9</td>\n",
       "      <td>I12</td>\n",
       "      <td>False</td>\n",
       "      <td>False</td>\n",
       "    </tr>\n",
       "    <tr>\n",
       "      <th>4</th>\n",
       "      <td>O1988898</td>\n",
       "      <td>2018-11-04 18:37:24</td>\n",
       "      <td>R10008</td>\n",
       "      <td>IN_STORE</td>\n",
       "      <td>0.0</td>\n",
       "      <td>0.0</td>\n",
       "      <td>I1</td>\n",
       "      <td>I7</td>\n",
       "      <td>I9</td>\n",
       "      <td>I9</td>\n",
       "      <td>False</td>\n",
       "      <td>False</td>\n",
       "    </tr>\n",
       "  </tbody>\n",
       "</table>\n",
       "</div>"
      ],
      "text/plain": [
       "   ORDER_ID            DATETIME RESTAURANT_ID      TYPE  DRINKS  COOKIES MAIN  \\\n",
       "0  O1820060 2018-10-11 17:25:50        R10002  IN_STORE     1.0      2.0  NaN   \n",
       "1  O1011112 2018-05-31 11:35:00        R10003  IN_STORE     0.0      0.0  NaN   \n",
       "2   O752854 2018-04-21 18:12:57        R10001  DELIVERY     0.0      2.0   I0   \n",
       "3  O2076864 2018-11-17 12:50:52        R10005    PICKUP     1.0      0.0   I0   \n",
       "4  O1988898 2018-11-04 18:37:24        R10008  IN_STORE     0.0      0.0   I1   \n",
       "\n",
       "  BASE SIDE_1 SIDE_2  ONE_TWO_COOKIES  COOKIE_PURCHASE  \n",
       "0  NaN    NaN    NaN             True             True  \n",
       "1  NaN    NaN    NaN            False            False  \n",
       "2   I7    I15    I14             True             True  \n",
       "3   I5     I9    I12            False            False  \n",
       "4   I7     I9     I9            False            False  "
      ]
     },
     "execution_count": 58,
     "metadata": {},
     "output_type": "execute_result"
    }
   ],
   "source": [
    "df_orders.head()"
   ]
  },
  {
   "cell_type": "code",
   "execution_count": 90,
   "metadata": {},
   "outputs": [
    {
     "data": {
      "text/html": [
       "<div>\n",
       "<style scoped>\n",
       "    .dataframe tbody tr th:only-of-type {\n",
       "        vertical-align: middle;\n",
       "    }\n",
       "\n",
       "    .dataframe tbody tr th {\n",
       "        vertical-align: top;\n",
       "    }\n",
       "\n",
       "    .dataframe thead th {\n",
       "        text-align: right;\n",
       "    }\n",
       "</style>\n",
       "<table border=\"1\" class=\"dataframe\">\n",
       "  <thead>\n",
       "    <tr style=\"text-align: right;\">\n",
       "      <th></th>\n",
       "      <th>ORDER_ID</th>\n",
       "      <th>RESTAURANT_ID</th>\n",
       "      <th>TYPE</th>\n",
       "      <th>MAIN</th>\n",
       "      <th>BASE</th>\n",
       "      <th>SIDE_1</th>\n",
       "      <th>SIDE_2</th>\n",
       "      <th>ONE_TWO_COOKIES</th>\n",
       "      <th>COOKIE_PURCHASE</th>\n",
       "    </tr>\n",
       "  </thead>\n",
       "  <tbody>\n",
       "    <tr>\n",
       "      <th>count</th>\n",
       "      <td>2387224</td>\n",
       "      <td>2387224</td>\n",
       "      <td>2387224</td>\n",
       "      <td>2275639</td>\n",
       "      <td>2275639</td>\n",
       "      <td>2275639</td>\n",
       "      <td>2275639</td>\n",
       "      <td>2387224</td>\n",
       "      <td>2387224</td>\n",
       "    </tr>\n",
       "    <tr>\n",
       "      <th>unique</th>\n",
       "      <td>2387224</td>\n",
       "      <td>8</td>\n",
       "      <td>3</td>\n",
       "      <td>5</td>\n",
       "      <td>3</td>\n",
       "      <td>8</td>\n",
       "      <td>8</td>\n",
       "      <td>2</td>\n",
       "      <td>2</td>\n",
       "    </tr>\n",
       "    <tr>\n",
       "      <th>top</th>\n",
       "      <td>O1820060</td>\n",
       "      <td>R10004</td>\n",
       "      <td>IN_STORE</td>\n",
       "      <td>I0</td>\n",
       "      <td>I6</td>\n",
       "      <td>I10</td>\n",
       "      <td>I10</td>\n",
       "      <td>False</td>\n",
       "      <td>False</td>\n",
       "    </tr>\n",
       "    <tr>\n",
       "      <th>freq</th>\n",
       "      <td>1</td>\n",
       "      <td>430860</td>\n",
       "      <td>1713136</td>\n",
       "      <td>693847</td>\n",
       "      <td>918077</td>\n",
       "      <td>497437</td>\n",
       "      <td>497826</td>\n",
       "      <td>1910717</td>\n",
       "      <td>1910717</td>\n",
       "    </tr>\n",
       "  </tbody>\n",
       "</table>\n",
       "</div>"
      ],
      "text/plain": [
       "        ORDER_ID RESTAURANT_ID      TYPE     MAIN     BASE   SIDE_1   SIDE_2  \\\n",
       "count    2387224       2387224   2387224  2275639  2275639  2275639  2275639   \n",
       "unique   2387224             8         3        5        3        8        8   \n",
       "top     O1820060        R10004  IN_STORE       I0       I6      I10      I10   \n",
       "freq           1        430860   1713136   693847   918077   497437   497826   \n",
       "\n",
       "       ONE_TWO_COOKIES COOKIE_PURCHASE  \n",
       "count          2387224         2387224  \n",
       "unique               2               2  \n",
       "top              False           False  \n",
       "freq           1910717         1910717  "
      ]
     },
     "execution_count": 90,
     "metadata": {},
     "output_type": "execute_result"
    }
   ],
   "source": [
    "df_orders.describe(include=[\"object\", \"bool\"])"
   ]
  },
  {
   "cell_type": "code",
   "execution_count": 37,
   "metadata": {},
   "outputs": [
    {
     "data": {
      "text/html": [
       "<div>\n",
       "<style scoped>\n",
       "    .dataframe tbody tr th:only-of-type {\n",
       "        vertical-align: middle;\n",
       "    }\n",
       "\n",
       "    .dataframe tbody tr th {\n",
       "        vertical-align: top;\n",
       "    }\n",
       "\n",
       "    .dataframe thead th {\n",
       "        text-align: right;\n",
       "    }\n",
       "</style>\n",
       "<table border=\"1\" class=\"dataframe\">\n",
       "  <thead>\n",
       "    <tr style=\"text-align: right;\">\n",
       "      <th></th>\n",
       "      <th>COOKIE_PURCHASE</th>\n",
       "    </tr>\n",
       "  </thead>\n",
       "  <tbody>\n",
       "    <tr>\n",
       "      <th>count</th>\n",
       "      <td>2387224</td>\n",
       "    </tr>\n",
       "    <tr>\n",
       "      <th>unique</th>\n",
       "      <td>2</td>\n",
       "    </tr>\n",
       "    <tr>\n",
       "      <th>top</th>\n",
       "      <td>False</td>\n",
       "    </tr>\n",
       "    <tr>\n",
       "      <th>freq</th>\n",
       "      <td>1910717</td>\n",
       "    </tr>\n",
       "  </tbody>\n",
       "</table>\n",
       "</div>"
      ],
      "text/plain": [
       "       COOKIE_PURCHASE\n",
       "count          2387224\n",
       "unique               2\n",
       "top              False\n",
       "freq           1910717"
      ]
     },
     "execution_count": 37,
     "metadata": {},
     "output_type": "execute_result"
    }
   ],
   "source": [
    "df_orders.describe(include=\"bool\")"
   ]
  },
  {
   "cell_type": "code",
   "execution_count": 38,
   "metadata": {},
   "outputs": [
    {
     "data": {
      "text/plain": [
       "count     2387224\n",
       "unique          2\n",
       "top         False\n",
       "freq      1910717\n",
       "Name: COOKIE_PURCHASE, dtype: object"
      ]
     },
     "execution_count": 38,
     "metadata": {},
     "output_type": "execute_result"
    }
   ],
   "source": [
    "#note the output is the same but the format is different here\n",
    "df_orders['COOKIE_PURCHASE'].describe(include=\"bool\")"
   ]
  },
  {
   "cell_type": "code",
   "execution_count": 22,
   "metadata": {},
   "outputs": [
    {
     "data": {
      "text/plain": [
       "IN_STORE    1713136\n",
       "PICKUP       401440\n",
       "DELIVERY     272648\n",
       "Name: TYPE, dtype: int64"
      ]
     },
     "execution_count": 22,
     "metadata": {},
     "output_type": "execute_result"
    }
   ],
   "source": [
    "df_orders.TYPE.value_counts() \n"
   ]
  },
  {
   "cell_type": "code",
   "execution_count": 23,
   "metadata": {},
   "outputs": [
    {
     "data": {
      "text/plain": [
       "IN_STORE    1713136\n",
       "PICKUP       401440\n",
       "DELIVERY     272648\n",
       "Name: TYPE, dtype: int64"
      ]
     },
     "execution_count": 23,
     "metadata": {},
     "output_type": "execute_result"
    }
   ],
   "source": [
    "df_orders['TYPE'].value_counts() \n"
   ]
  },
  {
   "cell_type": "code",
   "execution_count": 24,
   "metadata": {},
   "outputs": [
    {
     "data": {
      "text/plain": [
       "IN_STORE    0.717627\n",
       "PICKUP      0.168162\n",
       "DELIVERY    0.114211\n",
       "Name: TYPE, dtype: float64"
      ]
     },
     "execution_count": 24,
     "metadata": {},
     "output_type": "execute_result"
    }
   ],
   "source": [
    "df_orders.TYPE.value_counts(normalize=True)"
   ]
  },
  {
   "cell_type": "markdown",
   "metadata": {},
   "source": [
    "##### CHALLENGE #1: what percentage of orders include exactly 2 drinks?"
   ]
  },
  {
   "cell_type": "code",
   "execution_count": 31,
   "metadata": {},
   "outputs": [
    {
     "data": {
      "text/plain": [
       "False    1910717\n",
       "True      476507\n",
       "Name: COOKIES, dtype: int64"
      ]
     },
     "execution_count": 31,
     "metadata": {},
     "output_type": "execute_result"
    }
   ],
   "source": [
    "#group orders with cookies\n",
    "(df_orders.COOKIES > 0).value_counts() "
   ]
  },
  {
   "cell_type": "code",
   "execution_count": 32,
   "metadata": {},
   "outputs": [
    {
     "data": {
      "text/plain": [
       "False    0.800393\n",
       "True     0.199607\n",
       "Name: COOKIES, dtype: float64"
      ]
     },
     "execution_count": 32,
     "metadata": {},
     "output_type": "execute_result"
    }
   ],
   "source": [
    "#group orders with cookies\n",
    "(df_orders.COOKIES > 0).value_counts(normalize = True) "
   ]
  },
  {
   "cell_type": "code",
   "execution_count": 35,
   "metadata": {},
   "outputs": [
    {
     "data": {
      "text/plain": [
       "476507"
      ]
     },
     "execution_count": 35,
     "metadata": {},
     "output_type": "execute_result"
    }
   ],
   "source": [
    "#sum only orders with cookies\n",
    "(df_orders.COOKIES > 0).sum() "
   ]
  },
  {
   "cell_type": "code",
   "execution_count": 99,
   "metadata": {},
   "outputs": [
    {
     "data": {
      "text/plain": [
       "37199"
      ]
     },
     "execution_count": 99,
     "metadata": {},
     "output_type": "execute_result"
    }
   ],
   "source": [
    "#filters orders with a drink AND a cookie\n",
    "((df_orders.DRINKS > 0) & (df_orders.COOKIES > 0)).sum()\n"
   ]
  },
  {
   "cell_type": "code",
   "execution_count": 16,
   "metadata": {},
   "outputs": [
    {
     "data": {
      "text/plain": [
       "626704"
      ]
     },
     "execution_count": 16,
     "metadata": {},
     "output_type": "execute_result"
    }
   ],
   "source": [
    "#filters orders with a drink OR a cookie\n",
    "((df_orders.DRINKS > 0) | (df_orders.COOKIES > 0)).sum()"
   ]
  },
  {
   "cell_type": "code",
   "execution_count": 94,
   "metadata": {},
   "outputs": [
    {
     "data": {
      "text/plain": [
       "0     True\n",
       "1    False\n",
       "2     True\n",
       "3    False\n",
       "4    False\n",
       "Name: COOKIES, dtype: bool"
      ]
     },
     "execution_count": 94,
     "metadata": {},
     "output_type": "execute_result"
    }
   ],
   "source": [
    "def ordered_cookie(cookie):\n",
    "     return cookie > 0\n",
    "\n",
    "\n",
    "df_orders.COOKIES.apply(ordered_cookie).head()"
   ]
  },
  {
   "cell_type": "markdown",
   "metadata": {},
   "source": [
    "##### CHALLENGE #2: what percentage of orders include a drink but not a cookie?"
   ]
  },
  {
   "cell_type": "markdown",
   "metadata": {},
   "source": [
    "### Visualizing data"
   ]
  },
  {
   "cell_type": "code",
   "execution_count": 11,
   "metadata": {},
   "outputs": [],
   "source": [
    "import matplotlib.pyplot as plt"
   ]
  },
  {
   "cell_type": "code",
   "execution_count": 109,
   "metadata": {},
   "outputs": [
    {
     "data": {
      "text/plain": [
       "<Axes: >"
      ]
     },
     "execution_count": 109,
     "metadata": {},
     "output_type": "execute_result"
    },
    {
     "data": {
      "image/png": "[encoded data removed]",
      "text/plain": [
       "<Figure size 640x480 with 1 Axes>"
      ]
     },
     "metadata": {},
     "output_type": "display_data"
    }
   ],
   "source": [
    "df_orders.TYPE.value_counts().plot(kind='bar') \n"
   ]
  },
  {
   "cell_type": "code",
   "execution_count": 110,
   "metadata": {},
   "outputs": [
    {
     "data": {
      "text/plain": [
       "<Axes: >"
      ]
     },
     "execution_count": 110,
     "metadata": {},
     "output_type": "execute_result"
    },
    {
     "data": {
      "image/png": "[encoded data removed]",
      "text/plain": [
       "<Figure size 640x480 with 1 Axes>"
      ]
     },
     "metadata": {},
     "output_type": "display_data"
    }
   ],
   "source": [
    "df_orders.TYPE.value_counts(normalize=True).plot(kind='bar') "
   ]
  },
  {
   "cell_type": "code",
   "execution_count": 29,
   "metadata": {},
   "outputs": [
    {
     "data": {
      "text/plain": [
       "<matplotlib.axes._subplots.AxesSubplot at 0x2a2051c4588>"
      ]
     },
     "execution_count": 29,
     "metadata": {},
     "output_type": "execute_result"
    },
    {
     "data": {
      "image/png": "[encoded data removed]",
      "text/plain": [
       "<Figure size 432x288 with 1 Axes>"
      ]
     },
     "metadata": {
      "needs_background": "light"
     },
     "output_type": "display_data"
    }
   ],
   "source": [
    "df_summarized_orders.NUM_ORDERS.plot(kind='hist')"
   ]
  },
  {
   "cell_type": "code",
   "execution_count": 30,
   "metadata": {},
   "outputs": [
    {
     "data": {
      "text/plain": [
       "<matplotlib.axes._subplots.AxesSubplot at 0x2a20540ae10>"
      ]
     },
     "execution_count": 30,
     "metadata": {},
     "output_type": "execute_result"
    },
    {
     "data": {
      "image/png": "[encoded data removed]",
      "text/plain": [
       "<Figure size 432x288 with 1 Axes>"
      ]
     },
     "metadata": {
      "needs_background": "light"
     },
     "output_type": "display_data"
    }
   ],
   "source": [
    "df_summarized_orders.NUM_ORDERS.plot(kind='hist', bins=30)"
   ]
  },
  {
   "cell_type": "code",
   "execution_count": 27,
   "metadata": {},
   "outputs": [
    {
     "data": {
      "text/plain": [
       "<matplotlib.axes._subplots.AxesSubplot at 0x2a274653a90>"
      ]
     },
     "execution_count": 27,
     "metadata": {},
     "output_type": "execute_result"
    },
    {
     "data": {
      "image/png": "[encoded data removed]",
      "text/plain": [
       "<Figure size 432x288 with 1 Axes>"
      ]
     },
     "metadata": {
      "needs_background": "light"
     },
     "output_type": "display_data"
    }
   ],
   "source": [
    "df_summarized_orders.NUM_ORDERS.plot(kind='box')"
   ]
  },
  {
   "cell_type": "code",
   "execution_count": 124,
   "metadata": {},
   "outputs": [
    {
     "data": {
      "text/plain": [
       "<Axes: >"
      ]
     },
     "execution_count": 124,
     "metadata": {},
     "output_type": "execute_result"
    },
    {
     "data": {
      "image/png": "[encoded data removed]",
      "text/plain": [
       "<Figure size 640x480 with 1 Axes>"
      ]
     },
     "metadata": {},
     "output_type": "display_data"
    }
   ],
   "source": [
    "df_summarized_orders.NUM_ORDERS.value_counts().sort_index().plot(kind='line')"
   ]
  },
  {
   "cell_type": "code",
   "execution_count": 33,
   "metadata": {},
   "outputs": [
    {
     "data": {
      "text/plain": [
       "<seaborn.axisgrid.JointGrid at 0x2a2064b9860>"
      ]
     },
     "execution_count": 33,
     "metadata": {},
     "output_type": "execute_result"
    },
    {
     "data": {
      "image/png": "[encoded data removed]",
      "text/plain": [
       "<Figure size 432x432 with 3 Axes>"
      ]
     },
     "metadata": {
      "needs_background": "light"
     },
     "output_type": "display_data"
    }
   ],
   "source": [
    "import seaborn as sns\n",
    "sns.jointplot(x='NUM_ORDERS', y='PERC_DELIVERY',\n",
    "                  data=df_summarized_orders, kind='kde')"
   ]
  },
  {
   "cell_type": "code",
   "execution_count": 127,
   "metadata": {},
   "outputs": [
    {
     "data": {
      "text/plain": [
       "<Axes: xlabel='NUM_ORDERS', ylabel='PERC_DELIVERY'>"
      ]
     },
     "execution_count": 127,
     "metadata": {},
     "output_type": "execute_result"
    },
    {
     "data": {
      "image/png": "[encoded data removed]",
      "text/plain": [
       "<Figure size 640x480 with 1 Axes>"
      ]
     },
     "metadata": {},
     "output_type": "display_data"
    }
   ],
   "source": [
    "df_summarized_orders.plot(kind='scatter', x=\"NUM_ORDERS\", y=\"PERC_DELIVERY\")"
   ]
  },
  {
   "cell_type": "markdown",
   "metadata": {},
   "source": [
    "#### CHALLENGE #3 Using the df_orders table, create a visual to see which restaurant has the most number of orders and which has the least."
   ]
  }
 ],
 "metadata": {
  "kernelspec": {
   "display_name": "Python 3 (ipykernel)",
   "language": "python",
   "name": "python3"
  },
  "language_info": {
   "codemirror_mode": {
    "name": "ipython",
    "version": 3
   },
   "file_extension": ".py",
   "mimetype": "text/x-python",
   "name": "python",
   "nbconvert_exporter": "python",
   "pygments_lexer": "ipython3",
   "version": "3.11.0"
  }
 },
 "nbformat": 4,
 "nbformat_minor": 2
}
