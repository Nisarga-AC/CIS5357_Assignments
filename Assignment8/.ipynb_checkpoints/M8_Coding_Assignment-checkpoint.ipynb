{
 "cells": [
  {
   "cell_type": "markdown",
   "id": "4c005b73",
   "metadata": {},
   "source": [
    "This notebook is created by **Nisarga Arsikere Chidananda** to convert the detailed \"Superstore.xlsx\" data into a more concise format for automation purposes."
   ]
  },
  {
   "cell_type": "markdown",
   "id": "d72e8cbc",
   "metadata": {},
   "source": [
    "# Superstore Data Processing\n",
    "\n",
    "This Jupyter Notebook is designed to handle the data processing requirements for the Superstore dataset. By following the instructions, it loads the Orders tab from the 'Superstore.xlsx' file, selects specific columns, and then exports a more concise version to a CSV file, which is suitable for the automation process. This will ensure the smooth execution of the automation, preventing any potential failures in the system."
   ]
  },
  {
   "cell_type": "markdown",
   "id": "2f4e0f24",
   "metadata": {},
   "source": [
    "### Process Overview\n",
    "\n",
    "1. **Importing Libraries**: First, the necessary libraries, especially the 'pandas' library for data manipulation, are imported to ensure the data handling capabilities.\n",
    "\n",
    "2. **Loading the Data**: The code then loads the **'Superstore.xlsx'** file into a Pandas DataFrame, extracting the data from the 'Orders' tab.\n",
    "\n",
    "3. **Selecting Required Columns**: The DataFrame is filtered to retain only the columns necessary for the automation process, which include 'Order ID', 'Order Date', 'Customer ID', 'Product ID', 'Sales', and 'Profit'.\n",
    "\n",
    "4. **Creating a CSV File**: After selecting the required columns, the script writes the filtered DataFrame to a CSV file named **'Superstore_concise.csv'**, excluding the row index to ensure a clean dataset.\n",
    "\n",
    "5. **Confirmation Message**: Finally, the script prints a success message to confirm the creation of the CSV file."
   ]
  },
  {
   "cell_type": "markdown",
   "id": "f63f6d89",
   "metadata": {},
   "source": [
    "### Contact Information\n",
    "\n",
    "If you encounter any issues during the execution of this code or have any questions, please feel free to contact me at\n",
    "[nn@gmail.com] I'll be more than happy to assist you further.\n",
    "\n",
    "This script aims to streamline the data preprocessing step for your automation process, ensuring a seamless workflow for the Superstore dataset."
   ]
  },
  {
   "cell_type": "code",
   "execution_count": 7,
   "id": "b3a1346c",
   "metadata": {},
   "outputs": [],
   "source": [
    "# Importing necessary libraries\n",
    "import pandas as pd"
   ]
  },
  {
   "cell_type": "code",
   "execution_count": 8,
   "id": "96136d6d",
   "metadata": {},
   "outputs": [],
   "source": [
    "# Load the data into a DataFrame\n",
    "df_superstore = pd.read_excel('/Users/harshams/Desktop/CIS5357_Assignments/Assignment8/Superstore.xlsx', sheet_name ='Orders')"
   ]
  },
  {
   "cell_type": "code",
   "execution_count": 9,
   "id": "93ac3565",
   "metadata": {},
   "outputs": [],
   "source": [
    "# Select only the required columns\n",
    "required_columns = ['Order ID', 'Order Date', 'Customer ID', 'Product ID', 'Sales', 'Profit']"
   ]
  },
  {
   "cell_type": "code",
   "execution_count": 10,
   "id": "82ffce09",
   "metadata": {},
   "outputs": [],
   "source": [
    "df_required = df_superstore[required_columns]"
   ]
  },
  {
   "cell_type": "code",
   "execution_count": 11,
   "id": "8f7c2d28",
   "metadata": {},
   "outputs": [],
   "source": [
    "# Write the DataFrame to a CSV file\n",
    "df_required.to_csv('/Users/harshams/Desktop/CIS5357_Assignments/Assignment8/Superstore_concise.csv',index = False)"
   ]
  },
  {
   "cell_type": "code",
   "execution_count": 12,
   "id": "c2200995",
   "metadata": {},
   "outputs": [
    {
     "name": "stdout",
     "output_type": "stream",
     "text": [
      "The Superstore_concise.csv file is created\n"
     ]
    }
   ],
   "source": [
    "# Displaying success message\n",
    "print(\"The Superstore_concise.csv file is created\")"
   ]
  }
 ],
 "metadata": {
  "kernelspec": {
   "display_name": "Python 3 (ipykernel)",
   "language": "python",
   "name": "python3"
  },
  "language_info": {
   "codemirror_mode": {
    "name": "ipython",
    "version": 3
   },
   "file_extension": ".py",
   "mimetype": "text/x-python",
   "name": "python",
   "nbconvert_exporter": "python",
   "pygments_lexer": "ipython3",
   "version": "3.11.0"
  }
 },
 "nbformat": 4,
 "nbformat_minor": 5
}
