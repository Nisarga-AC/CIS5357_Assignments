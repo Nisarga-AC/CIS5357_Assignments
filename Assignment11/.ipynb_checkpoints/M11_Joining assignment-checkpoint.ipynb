{
 "cells": [
  {
   "cell_type": "markdown",
   "id": "e05fb27f",
   "metadata": {},
   "source": [
    "Name : **Nisarga Arsikere Chidananda**\n",
    "\n",
    "Student_ID : **A05289369**"
   ]
  },
  {
   "cell_type": "markdown",
   "id": "02054155",
   "metadata": {},
   "source": [
    "# Return Analysis"
   ]
  },
  {
   "cell_type": "markdown",
   "id": "6f54f5f3",
   "metadata": {},
   "source": [
    "## Introduction\n",
    "This analysis aims to provide insights into the returns data of the Superstore retailer. We will be examining the Superstore.xlsx file, which contains information about orders and returns for a retailer we are working with."
   ]
  },
  {
   "cell_type": "markdown",
   "id": "33a7321a",
   "metadata": {},
   "source": [
    "### Step 1: Data Loading\n",
    "We start by loading the necessary libraries and reading the 'Superstore.xlsx' file into separate dataframes for **orders** and **returns**."
   ]
  },
  {
   "cell_type": "code",
   "execution_count": 83,
   "id": "ce3669d2",
   "metadata": {},
   "outputs": [],
   "source": [
    "#importing the pandas library\n",
    "import pandas as pd"
   ]
  },
  {
   "cell_type": "code",
   "execution_count": 84,
   "id": "3adeb9ec",
   "metadata": {},
   "outputs": [],
   "source": [
    "orders_df = pd.read_excel('/Users/harshams/Desktop/CIS5357_Assignments/Assignment11/Superstore.xlsx',sheet_name = 'Orders')"
   ]
  },
  {
   "cell_type": "code",
   "execution_count": 85,
   "id": "dfe6c33d",
   "metadata": {},
   "outputs": [
    {
     "data": {
      "text/html": [
       "<div>\n",
       "<style scoped>\n",
       "    .dataframe tbody tr th:only-of-type {\n",
       "        vertical-align: middle;\n",
       "    }\n",
       "\n",
       "    .dataframe tbody tr th {\n",
       "        vertical-align: top;\n",
       "    }\n",
       "\n",
       "    .dataframe thead th {\n",
       "        text-align: right;\n",
       "    }\n",
       "</style>\n",
       "<table border=\"1\" class=\"dataframe\">\n",
       "  <thead>\n",
       "    <tr style=\"text-align: right;\">\n",
       "      <th></th>\n",
       "      <th>Row ID</th>\n",
       "      <th>Order ID</th>\n",
       "      <th>Order Date</th>\n",
       "      <th>Ship Date</th>\n",
       "      <th>Ship Mode</th>\n",
       "      <th>Customer ID</th>\n",
       "      <th>Customer Name</th>\n",
       "      <th>Segment</th>\n",
       "      <th>Country/Region</th>\n",
       "      <th>City</th>\n",
       "      <th>...</th>\n",
       "      <th>Postal Code</th>\n",
       "      <th>Region</th>\n",
       "      <th>Product ID</th>\n",
       "      <th>Category</th>\n",
       "      <th>Sub-Category</th>\n",
       "      <th>Product Name</th>\n",
       "      <th>Sales</th>\n",
       "      <th>Quantity</th>\n",
       "      <th>Discount</th>\n",
       "      <th>Profit</th>\n",
       "    </tr>\n",
       "  </thead>\n",
       "  <tbody>\n",
       "    <tr>\n",
       "      <th>0</th>\n",
       "      <td>1</td>\n",
       "      <td>US-2019-103800</td>\n",
       "      <td>2019-01-03</td>\n",
       "      <td>2019-01-07</td>\n",
       "      <td>Standard Class</td>\n",
       "      <td>DP-13000</td>\n",
       "      <td>Darren Powers</td>\n",
       "      <td>Consumer</td>\n",
       "      <td>United States</td>\n",
       "      <td>Houston</td>\n",
       "      <td>...</td>\n",
       "      <td>77095</td>\n",
       "      <td>Central</td>\n",
       "      <td>OFF-PA-10000174</td>\n",
       "      <td>Office Supplies</td>\n",
       "      <td>Paper</td>\n",
       "      <td>Message Book, Wirebound, Four 5 1/2\" X 4\" Form...</td>\n",
       "      <td>16.448</td>\n",
       "      <td>2</td>\n",
       "      <td>0.2</td>\n",
       "      <td>5.5512</td>\n",
       "    </tr>\n",
       "    <tr>\n",
       "      <th>1</th>\n",
       "      <td>2</td>\n",
       "      <td>US-2019-112326</td>\n",
       "      <td>2019-01-04</td>\n",
       "      <td>2019-01-08</td>\n",
       "      <td>Standard Class</td>\n",
       "      <td>PO-19195</td>\n",
       "      <td>Phillina Ober</td>\n",
       "      <td>Home Office</td>\n",
       "      <td>United States</td>\n",
       "      <td>Naperville</td>\n",
       "      <td>...</td>\n",
       "      <td>60540</td>\n",
       "      <td>Central</td>\n",
       "      <td>OFF-BI-10004094</td>\n",
       "      <td>Office Supplies</td>\n",
       "      <td>Binders</td>\n",
       "      <td>GBC Standard Plastic Binding Systems Combs</td>\n",
       "      <td>3.540</td>\n",
       "      <td>2</td>\n",
       "      <td>0.8</td>\n",
       "      <td>-5.4870</td>\n",
       "    </tr>\n",
       "    <tr>\n",
       "      <th>2</th>\n",
       "      <td>3</td>\n",
       "      <td>US-2019-112326</td>\n",
       "      <td>2019-01-04</td>\n",
       "      <td>2019-01-08</td>\n",
       "      <td>Standard Class</td>\n",
       "      <td>PO-19195</td>\n",
       "      <td>Phillina Ober</td>\n",
       "      <td>Home Office</td>\n",
       "      <td>United States</td>\n",
       "      <td>Naperville</td>\n",
       "      <td>...</td>\n",
       "      <td>60540</td>\n",
       "      <td>Central</td>\n",
       "      <td>OFF-LA-10003223</td>\n",
       "      <td>Office Supplies</td>\n",
       "      <td>Labels</td>\n",
       "      <td>Avery 508</td>\n",
       "      <td>11.784</td>\n",
       "      <td>3</td>\n",
       "      <td>0.2</td>\n",
       "      <td>4.2717</td>\n",
       "    </tr>\n",
       "    <tr>\n",
       "      <th>3</th>\n",
       "      <td>4</td>\n",
       "      <td>US-2019-112326</td>\n",
       "      <td>2019-01-04</td>\n",
       "      <td>2019-01-08</td>\n",
       "      <td>Standard Class</td>\n",
       "      <td>PO-19195</td>\n",
       "      <td>Phillina Ober</td>\n",
       "      <td>Home Office</td>\n",
       "      <td>United States</td>\n",
       "      <td>Naperville</td>\n",
       "      <td>...</td>\n",
       "      <td>60540</td>\n",
       "      <td>Central</td>\n",
       "      <td>OFF-ST-10002743</td>\n",
       "      <td>Office Supplies</td>\n",
       "      <td>Storage</td>\n",
       "      <td>SAFCO Boltless Steel Shelving</td>\n",
       "      <td>272.736</td>\n",
       "      <td>3</td>\n",
       "      <td>0.2</td>\n",
       "      <td>-64.7748</td>\n",
       "    </tr>\n",
       "    <tr>\n",
       "      <th>4</th>\n",
       "      <td>5</td>\n",
       "      <td>US-2019-141817</td>\n",
       "      <td>2019-01-05</td>\n",
       "      <td>2019-01-12</td>\n",
       "      <td>Standard Class</td>\n",
       "      <td>MB-18085</td>\n",
       "      <td>Mick Brown</td>\n",
       "      <td>Consumer</td>\n",
       "      <td>United States</td>\n",
       "      <td>Philadelphia</td>\n",
       "      <td>...</td>\n",
       "      <td>19143</td>\n",
       "      <td>East</td>\n",
       "      <td>OFF-AR-10003478</td>\n",
       "      <td>Office Supplies</td>\n",
       "      <td>Art</td>\n",
       "      <td>Avery Hi-Liter EverBold Pen Style Fluorescent ...</td>\n",
       "      <td>19.536</td>\n",
       "      <td>3</td>\n",
       "      <td>0.2</td>\n",
       "      <td>4.8840</td>\n",
       "    </tr>\n",
       "    <tr>\n",
       "      <th>...</th>\n",
       "      <td>...</td>\n",
       "      <td>...</td>\n",
       "      <td>...</td>\n",
       "      <td>...</td>\n",
       "      <td>...</td>\n",
       "      <td>...</td>\n",
       "      <td>...</td>\n",
       "      <td>...</td>\n",
       "      <td>...</td>\n",
       "      <td>...</td>\n",
       "      <td>...</td>\n",
       "      <td>...</td>\n",
       "      <td>...</td>\n",
       "      <td>...</td>\n",
       "      <td>...</td>\n",
       "      <td>...</td>\n",
       "      <td>...</td>\n",
       "      <td>...</td>\n",
       "      <td>...</td>\n",
       "      <td>...</td>\n",
       "      <td>...</td>\n",
       "    </tr>\n",
       "    <tr>\n",
       "      <th>10189</th>\n",
       "      <td>10190</td>\n",
       "      <td>US-2022-143259</td>\n",
       "      <td>2022-12-30</td>\n",
       "      <td>2023-01-03</td>\n",
       "      <td>Standard Class</td>\n",
       "      <td>PO-18865</td>\n",
       "      <td>Patrick O'Donnell</td>\n",
       "      <td>Consumer</td>\n",
       "      <td>United States</td>\n",
       "      <td>New York City</td>\n",
       "      <td>...</td>\n",
       "      <td>10009</td>\n",
       "      <td>East</td>\n",
       "      <td>OFF-BI-10003684</td>\n",
       "      <td>Office Supplies</td>\n",
       "      <td>Binders</td>\n",
       "      <td>Wilson Jones Legal Size Ring Binders</td>\n",
       "      <td>52.776</td>\n",
       "      <td>3</td>\n",
       "      <td>0.2</td>\n",
       "      <td>19.7910</td>\n",
       "    </tr>\n",
       "    <tr>\n",
       "      <th>10190</th>\n",
       "      <td>10191</td>\n",
       "      <td>US-2022-115427</td>\n",
       "      <td>2022-12-30</td>\n",
       "      <td>2023-01-03</td>\n",
       "      <td>Standard Class</td>\n",
       "      <td>EB-13975</td>\n",
       "      <td>Erica Bern</td>\n",
       "      <td>Corporate</td>\n",
       "      <td>United States</td>\n",
       "      <td>Fairfield</td>\n",
       "      <td>...</td>\n",
       "      <td>94533</td>\n",
       "      <td>West</td>\n",
       "      <td>OFF-BI-10004632</td>\n",
       "      <td>Office Supplies</td>\n",
       "      <td>Binders</td>\n",
       "      <td>GBC Binding covers</td>\n",
       "      <td>20.720</td>\n",
       "      <td>2</td>\n",
       "      <td>0.2</td>\n",
       "      <td>6.4750</td>\n",
       "    </tr>\n",
       "    <tr>\n",
       "      <th>10191</th>\n",
       "      <td>10192</td>\n",
       "      <td>US-2022-156720</td>\n",
       "      <td>2022-12-30</td>\n",
       "      <td>2023-01-03</td>\n",
       "      <td>Standard Class</td>\n",
       "      <td>JM-15580</td>\n",
       "      <td>Jill Matthias</td>\n",
       "      <td>Consumer</td>\n",
       "      <td>United States</td>\n",
       "      <td>Loveland</td>\n",
       "      <td>...</td>\n",
       "      <td>80538</td>\n",
       "      <td>West</td>\n",
       "      <td>OFF-FA-10003472</td>\n",
       "      <td>Office Supplies</td>\n",
       "      <td>Fasteners</td>\n",
       "      <td>Bagged Rubber Bands</td>\n",
       "      <td>3.024</td>\n",
       "      <td>3</td>\n",
       "      <td>0.2</td>\n",
       "      <td>-0.6048</td>\n",
       "    </tr>\n",
       "    <tr>\n",
       "      <th>10192</th>\n",
       "      <td>10193</td>\n",
       "      <td>US-2022-143259</td>\n",
       "      <td>2022-12-30</td>\n",
       "      <td>2023-01-03</td>\n",
       "      <td>Standard Class</td>\n",
       "      <td>PO-18865</td>\n",
       "      <td>Patrick O'Donnell</td>\n",
       "      <td>Consumer</td>\n",
       "      <td>United States</td>\n",
       "      <td>New York City</td>\n",
       "      <td>...</td>\n",
       "      <td>10009</td>\n",
       "      <td>East</td>\n",
       "      <td>TEC-PH-10004774</td>\n",
       "      <td>Technology</td>\n",
       "      <td>Phones</td>\n",
       "      <td>Gear Head AU3700S Headset</td>\n",
       "      <td>90.930</td>\n",
       "      <td>7</td>\n",
       "      <td>0.0</td>\n",
       "      <td>2.7279</td>\n",
       "    </tr>\n",
       "    <tr>\n",
       "      <th>10193</th>\n",
       "      <td>10194</td>\n",
       "      <td>CA-2022-143500</td>\n",
       "      <td>2022-12-30</td>\n",
       "      <td>2023-01-03</td>\n",
       "      <td>Standard Class</td>\n",
       "      <td>HO-15230</td>\n",
       "      <td>Harry Olson</td>\n",
       "      <td>Consumer</td>\n",
       "      <td>Canada</td>\n",
       "      <td>Charlottetown</td>\n",
       "      <td>...</td>\n",
       "      <td>C0A</td>\n",
       "      <td>East</td>\n",
       "      <td>OFF-BI-10004040</td>\n",
       "      <td>Office Supplies</td>\n",
       "      <td>Binders</td>\n",
       "      <td>Wilson Jones Impact Binders</td>\n",
       "      <td>3.024</td>\n",
       "      <td>3</td>\n",
       "      <td>0.2</td>\n",
       "      <td>-0.6048</td>\n",
       "    </tr>\n",
       "  </tbody>\n",
       "</table>\n",
       "<p>10194 rows × 21 columns</p>\n",
       "</div>"
      ],
      "text/plain": [
       "       Row ID        Order ID Order Date  Ship Date       Ship Mode  \\\n",
       "0           1  US-2019-103800 2019-01-03 2019-01-07  Standard Class   \n",
       "1           2  US-2019-112326 2019-01-04 2019-01-08  Standard Class   \n",
       "2           3  US-2019-112326 2019-01-04 2019-01-08  Standard Class   \n",
       "3           4  US-2019-112326 2019-01-04 2019-01-08  Standard Class   \n",
       "4           5  US-2019-141817 2019-01-05 2019-01-12  Standard Class   \n",
       "...       ...             ...        ...        ...             ...   \n",
       "10189   10190  US-2022-143259 2022-12-30 2023-01-03  Standard Class   \n",
       "10190   10191  US-2022-115427 2022-12-30 2023-01-03  Standard Class   \n",
       "10191   10192  US-2022-156720 2022-12-30 2023-01-03  Standard Class   \n",
       "10192   10193  US-2022-143259 2022-12-30 2023-01-03  Standard Class   \n",
       "10193   10194  CA-2022-143500 2022-12-30 2023-01-03  Standard Class   \n",
       "\n",
       "      Customer ID      Customer Name      Segment Country/Region  \\\n",
       "0        DP-13000      Darren Powers     Consumer  United States   \n",
       "1        PO-19195      Phillina Ober  Home Office  United States   \n",
       "2        PO-19195      Phillina Ober  Home Office  United States   \n",
       "3        PO-19195      Phillina Ober  Home Office  United States   \n",
       "4        MB-18085         Mick Brown     Consumer  United States   \n",
       "...           ...                ...          ...            ...   \n",
       "10189    PO-18865  Patrick O'Donnell     Consumer  United States   \n",
       "10190    EB-13975         Erica Bern    Corporate  United States   \n",
       "10191    JM-15580      Jill Matthias     Consumer  United States   \n",
       "10192    PO-18865  Patrick O'Donnell     Consumer  United States   \n",
       "10193    HO-15230        Harry Olson     Consumer         Canada   \n",
       "\n",
       "                City  ... Postal Code   Region       Product ID  \\\n",
       "0            Houston  ...       77095  Central  OFF-PA-10000174   \n",
       "1         Naperville  ...       60540  Central  OFF-BI-10004094   \n",
       "2         Naperville  ...       60540  Central  OFF-LA-10003223   \n",
       "3         Naperville  ...       60540  Central  OFF-ST-10002743   \n",
       "4       Philadelphia  ...       19143     East  OFF-AR-10003478   \n",
       "...              ...  ...         ...      ...              ...   \n",
       "10189  New York City  ...       10009     East  OFF-BI-10003684   \n",
       "10190      Fairfield  ...       94533     West  OFF-BI-10004632   \n",
       "10191       Loveland  ...       80538     West  OFF-FA-10003472   \n",
       "10192  New York City  ...       10009     East  TEC-PH-10004774   \n",
       "10193  Charlottetown  ...         C0A     East  OFF-BI-10004040   \n",
       "\n",
       "              Category Sub-Category  \\\n",
       "0      Office Supplies        Paper   \n",
       "1      Office Supplies      Binders   \n",
       "2      Office Supplies       Labels   \n",
       "3      Office Supplies      Storage   \n",
       "4      Office Supplies          Art   \n",
       "...                ...          ...   \n",
       "10189  Office Supplies      Binders   \n",
       "10190  Office Supplies      Binders   \n",
       "10191  Office Supplies    Fasteners   \n",
       "10192       Technology       Phones   \n",
       "10193  Office Supplies      Binders   \n",
       "\n",
       "                                            Product Name    Sales  Quantity  \\\n",
       "0      Message Book, Wirebound, Four 5 1/2\" X 4\" Form...   16.448         2   \n",
       "1             GBC Standard Plastic Binding Systems Combs    3.540         2   \n",
       "2                                              Avery 508   11.784         3   \n",
       "3                          SAFCO Boltless Steel Shelving  272.736         3   \n",
       "4      Avery Hi-Liter EverBold Pen Style Fluorescent ...   19.536         3   \n",
       "...                                                  ...      ...       ...   \n",
       "10189               Wilson Jones Legal Size Ring Binders   52.776         3   \n",
       "10190                                 GBC Binding covers   20.720         2   \n",
       "10191                                Bagged Rubber Bands    3.024         3   \n",
       "10192                          Gear Head AU3700S Headset   90.930         7   \n",
       "10193                        Wilson Jones Impact Binders    3.024         3   \n",
       "\n",
       "       Discount   Profit  \n",
       "0           0.2   5.5512  \n",
       "1           0.8  -5.4870  \n",
       "2           0.2   4.2717  \n",
       "3           0.2 -64.7748  \n",
       "4           0.2   4.8840  \n",
       "...         ...      ...  \n",
       "10189       0.2  19.7910  \n",
       "10190       0.2   6.4750  \n",
       "10191       0.2  -0.6048  \n",
       "10192       0.0   2.7279  \n",
       "10193       0.2  -0.6048  \n",
       "\n",
       "[10194 rows x 21 columns]"
      ]
     },
     "execution_count": 85,
     "metadata": {},
     "output_type": "execute_result"
    }
   ],
   "source": [
    "orders_df"
   ]
  },
  {
   "cell_type": "code",
   "execution_count": 86,
   "id": "8a87c4f0",
   "metadata": {},
   "outputs": [],
   "source": [
    "returns_df = pd.read_excel('/Users/harshams/Desktop/CIS5357_Assignments/Assignment11/Superstore.xlsx',sheet_name = 'Returns')"
   ]
  },
  {
   "cell_type": "code",
   "execution_count": 87,
   "id": "7a854ad3",
   "metadata": {},
   "outputs": [
    {
     "data": {
      "text/html": [
       "<div>\n",
       "<style scoped>\n",
       "    .dataframe tbody tr th:only-of-type {\n",
       "        vertical-align: middle;\n",
       "    }\n",
       "\n",
       "    .dataframe tbody tr th {\n",
       "        vertical-align: top;\n",
       "    }\n",
       "\n",
       "    .dataframe thead th {\n",
       "        text-align: right;\n",
       "    }\n",
       "</style>\n",
       "<table border=\"1\" class=\"dataframe\">\n",
       "  <thead>\n",
       "    <tr style=\"text-align: right;\">\n",
       "      <th></th>\n",
       "      <th>Returned</th>\n",
       "      <th>Order ID</th>\n",
       "    </tr>\n",
       "  </thead>\n",
       "  <tbody>\n",
       "    <tr>\n",
       "      <th>0</th>\n",
       "      <td>Yes</td>\n",
       "      <td>US-2019-100762</td>\n",
       "    </tr>\n",
       "    <tr>\n",
       "      <th>1</th>\n",
       "      <td>Yes</td>\n",
       "      <td>US-2019-100762</td>\n",
       "    </tr>\n",
       "    <tr>\n",
       "      <th>2</th>\n",
       "      <td>Yes</td>\n",
       "      <td>US-2019-100762</td>\n",
       "    </tr>\n",
       "    <tr>\n",
       "      <th>3</th>\n",
       "      <td>Yes</td>\n",
       "      <td>US-2019-100762</td>\n",
       "    </tr>\n",
       "    <tr>\n",
       "      <th>4</th>\n",
       "      <td>Yes</td>\n",
       "      <td>US-2019-100867</td>\n",
       "    </tr>\n",
       "    <tr>\n",
       "      <th>...</th>\n",
       "      <td>...</td>\n",
       "      <td>...</td>\n",
       "    </tr>\n",
       "    <tr>\n",
       "      <th>795</th>\n",
       "      <td>Yes</td>\n",
       "      <td>US-2022-147886</td>\n",
       "    </tr>\n",
       "    <tr>\n",
       "      <th>796</th>\n",
       "      <td>Yes</td>\n",
       "      <td>US-2022-147998</td>\n",
       "    </tr>\n",
       "    <tr>\n",
       "      <th>797</th>\n",
       "      <td>Yes</td>\n",
       "      <td>US-2022-151127</td>\n",
       "    </tr>\n",
       "    <tr>\n",
       "      <th>798</th>\n",
       "      <td>Yes</td>\n",
       "      <td>US-2022-155999</td>\n",
       "    </tr>\n",
       "    <tr>\n",
       "      <th>799</th>\n",
       "      <td>Yes</td>\n",
       "      <td>US-2022-155999</td>\n",
       "    </tr>\n",
       "  </tbody>\n",
       "</table>\n",
       "<p>800 rows × 2 columns</p>\n",
       "</div>"
      ],
      "text/plain": [
       "    Returned        Order ID\n",
       "0        Yes  US-2019-100762\n",
       "1        Yes  US-2019-100762\n",
       "2        Yes  US-2019-100762\n",
       "3        Yes  US-2019-100762\n",
       "4        Yes  US-2019-100867\n",
       "..       ...             ...\n",
       "795      Yes  US-2022-147886\n",
       "796      Yes  US-2022-147998\n",
       "797      Yes  US-2022-151127\n",
       "798      Yes  US-2022-155999\n",
       "799      Yes  US-2022-155999\n",
       "\n",
       "[800 rows x 2 columns]"
      ]
     },
     "execution_count": 87,
     "metadata": {},
     "output_type": "execute_result"
    }
   ],
   "source": [
    "returns_df"
   ]
  },
  {
   "cell_type": "markdown",
   "id": "56cd4e30",
   "metadata": {},
   "source": [
    "### Step 2: Merging Dataframes\n",
    "We merge the **orders** and **returns** dataframes on the common key 'Order ID' to combine the information on orders and returns into a single dataframe **orders_returned** and we have used merge() to merge the 'orders' and 'returns' dataframes."
   ]
  },
  {
   "cell_type": "code",
   "execution_count": 88,
   "id": "4cf14956",
   "metadata": {},
   "outputs": [],
   "source": [
    "orders_returned_df = pd.merge(orders_df[['Order ID' , 'Region']],returns_df, how = 'inner', on = 'Order ID')"
   ]
  },
  {
   "cell_type": "code",
   "execution_count": 89,
   "id": "7aab2577",
   "metadata": {},
   "outputs": [
    {
     "data": {
      "text/html": [
       "<div>\n",
       "<style scoped>\n",
       "    .dataframe tbody tr th:only-of-type {\n",
       "        vertical-align: middle;\n",
       "    }\n",
       "\n",
       "    .dataframe tbody tr th {\n",
       "        vertical-align: top;\n",
       "    }\n",
       "\n",
       "    .dataframe thead th {\n",
       "        text-align: right;\n",
       "    }\n",
       "</style>\n",
       "<table border=\"1\" class=\"dataframe\">\n",
       "  <thead>\n",
       "    <tr style=\"text-align: right;\">\n",
       "      <th></th>\n",
       "      <th>Order ID</th>\n",
       "      <th>Region</th>\n",
       "      <th>Returned</th>\n",
       "    </tr>\n",
       "  </thead>\n",
       "  <tbody>\n",
       "    <tr>\n",
       "      <th>0</th>\n",
       "      <td>US-2019-148614</td>\n",
       "      <td>West</td>\n",
       "      <td>Yes</td>\n",
       "    </tr>\n",
       "    <tr>\n",
       "      <th>1</th>\n",
       "      <td>US-2019-148614</td>\n",
       "      <td>West</td>\n",
       "      <td>Yes</td>\n",
       "    </tr>\n",
       "    <tr>\n",
       "      <th>2</th>\n",
       "      <td>US-2019-148614</td>\n",
       "      <td>West</td>\n",
       "      <td>Yes</td>\n",
       "    </tr>\n",
       "    <tr>\n",
       "      <th>3</th>\n",
       "      <td>US-2019-148614</td>\n",
       "      <td>West</td>\n",
       "      <td>Yes</td>\n",
       "    </tr>\n",
       "    <tr>\n",
       "      <th>4</th>\n",
       "      <td>US-2019-103744</td>\n",
       "      <td>Central</td>\n",
       "      <td>Yes</td>\n",
       "    </tr>\n",
       "    <tr>\n",
       "      <th>...</th>\n",
       "      <td>...</td>\n",
       "      <td>...</td>\n",
       "      <td>...</td>\n",
       "    </tr>\n",
       "    <tr>\n",
       "      <th>3221</th>\n",
       "      <td>US-2022-130631</td>\n",
       "      <td>West</td>\n",
       "      <td>Yes</td>\n",
       "    </tr>\n",
       "    <tr>\n",
       "      <th>3222</th>\n",
       "      <td>US-2022-115427</td>\n",
       "      <td>West</td>\n",
       "      <td>Yes</td>\n",
       "    </tr>\n",
       "    <tr>\n",
       "      <th>3223</th>\n",
       "      <td>US-2022-115427</td>\n",
       "      <td>West</td>\n",
       "      <td>Yes</td>\n",
       "    </tr>\n",
       "    <tr>\n",
       "      <th>3224</th>\n",
       "      <td>US-2022-115427</td>\n",
       "      <td>West</td>\n",
       "      <td>Yes</td>\n",
       "    </tr>\n",
       "    <tr>\n",
       "      <th>3225</th>\n",
       "      <td>US-2022-115427</td>\n",
       "      <td>West</td>\n",
       "      <td>Yes</td>\n",
       "    </tr>\n",
       "  </tbody>\n",
       "</table>\n",
       "<p>3226 rows × 3 columns</p>\n",
       "</div>"
      ],
      "text/plain": [
       "            Order ID   Region Returned\n",
       "0     US-2019-148614     West      Yes\n",
       "1     US-2019-148614     West      Yes\n",
       "2     US-2019-148614     West      Yes\n",
       "3     US-2019-148614     West      Yes\n",
       "4     US-2019-103744  Central      Yes\n",
       "...              ...      ...      ...\n",
       "3221  US-2022-130631     West      Yes\n",
       "3222  US-2022-115427     West      Yes\n",
       "3223  US-2022-115427     West      Yes\n",
       "3224  US-2022-115427     West      Yes\n",
       "3225  US-2022-115427     West      Yes\n",
       "\n",
       "[3226 rows x 3 columns]"
      ]
     },
     "execution_count": 89,
     "metadata": {},
     "output_type": "execute_result"
    }
   ],
   "source": [
    "orders_returned_df"
   ]
  },
  {
   "cell_type": "markdown",
   "id": "db3aa4cb",
   "metadata": {},
   "source": [
    "### Step 3: Calculate the total of unique Orders and unique Returned Orders\n",
    "We calculate the total number of unique orders and unique returned orders to be used in calculating the percentage of orders returned."
   ]
  },
  {
   "cell_type": "code",
   "execution_count": 90,
   "id": "796ee8a6",
   "metadata": {},
   "outputs": [],
   "source": [
    "Total_Orders = orders_df['Order ID'].nunique()"
   ]
  },
  {
   "cell_type": "code",
   "execution_count": 91,
   "id": "c8c05d97",
   "metadata": {},
   "outputs": [
    {
     "data": {
      "text/plain": [
       "5111"
      ]
     },
     "execution_count": 91,
     "metadata": {},
     "output_type": "execute_result"
    }
   ],
   "source": [
    "Total_Orders"
   ]
  },
  {
   "cell_type": "code",
   "execution_count": 92,
   "id": "7bc8a83c",
   "metadata": {},
   "outputs": [],
   "source": [
    "Returned_Orders = orders_returned_df['Order ID'].nunique()"
   ]
  },
  {
   "cell_type": "code",
   "execution_count": 93,
   "id": "e1d01577",
   "metadata": {},
   "outputs": [
    {
     "data": {
      "text/plain": [
       "296"
      ]
     },
     "execution_count": 93,
     "metadata": {},
     "output_type": "execute_result"
    }
   ],
   "source": [
    "Returned_Orders"
   ]
  },
  {
   "cell_type": "markdown",
   "id": "878f0e27",
   "metadata": {},
   "source": [
    "### Step 4: Calculate Percentage of Orders Returned\n",
    "Using the total unique orders and unique returned orders, we calculate the percentage of orders that were returned."
   ]
  },
  {
   "cell_type": "code",
   "execution_count": 94,
   "id": "206b34e5",
   "metadata": {},
   "outputs": [],
   "source": [
    "Percentage_returned = (Returned_Orders/Total_Orders)*100"
   ]
  },
  {
   "cell_type": "code",
   "execution_count": 95,
   "id": "7e5e2eba",
   "metadata": {},
   "outputs": [
    {
     "data": {
      "text/plain": [
       "5.791430248483663"
      ]
     },
     "execution_count": 95,
     "metadata": {},
     "output_type": "execute_result"
    }
   ],
   "source": [
    "#displaying the Percentage_returned\n",
    "Percentage_returned"
   ]
  },
  {
   "cell_type": "markdown",
   "id": "1784dad5",
   "metadata": {},
   "source": [
    "### Step 5: Calculate Unique Orders by Region and Unique Returned Orders by Region\n",
    "We find the count of unique orders in each region and unique returned orders in each region to be used for calculating the percentage of returns by region."
   ]
  },
  {
   "cell_type": "code",
   "execution_count": 96,
   "id": "c82ddf15",
   "metadata": {},
   "outputs": [],
   "source": [
    "orders_by_regions = orders_df.groupby('Region')['Order ID'].nunique()"
   ]
  },
  {
   "cell_type": "code",
   "execution_count": 97,
   "id": "5350a629",
   "metadata": {},
   "outputs": [
    {
     "data": {
      "text/plain": [
       "Region\n",
       "Central    1179\n",
       "East       1475\n",
       "South       822\n",
       "West       1635\n",
       "Name: Order ID, dtype: int64"
      ]
     },
     "execution_count": 97,
     "metadata": {},
     "output_type": "execute_result"
    }
   ],
   "source": [
    "orders_by_regions"
   ]
  },
  {
   "cell_type": "code",
   "execution_count": 98,
   "id": "2ae4cc04",
   "metadata": {},
   "outputs": [],
   "source": [
    "returned_by_regions = orders_returned_df.groupby('Region')['Order ID'].nunique()"
   ]
  },
  {
   "cell_type": "code",
   "execution_count": 99,
   "id": "c397ebee",
   "metadata": {},
   "outputs": [
    {
     "data": {
      "text/plain": [
       "Region\n",
       "Central     39\n",
       "East        44\n",
       "South       24\n",
       "West       189\n",
       "Name: Order ID, dtype: int64"
      ]
     },
     "execution_count": 99,
     "metadata": {},
     "output_type": "execute_result"
    }
   ],
   "source": [
    "returned_by_regions"
   ]
  },
  {
   "cell_type": "markdown",
   "id": "a778468f",
   "metadata": {},
   "source": [
    "### Step 6: Calculate Percentage of Returns by Region\n",
    "Using the unique orders and unique returned orders by region, we calculate the percentage of returns for each region."
   ]
  },
  {
   "cell_type": "markdown",
   "id": "f9c9b5fd",
   "metadata": {},
   "source": [
    "### Method1"
   ]
  },
  {
   "cell_type": "code",
   "execution_count": 100,
   "id": "d0487cc7",
   "metadata": {},
   "outputs": [],
   "source": [
    "Percentage_returns_by_regions = (returned_by_regions/orders_by_regions)*100"
   ]
  },
  {
   "cell_type": "code",
   "execution_count": 101,
   "id": "991c3f3a",
   "metadata": {},
   "outputs": [
    {
     "data": {
      "text/plain": [
       "Region\n",
       "Central     3.307888\n",
       "East        2.983051\n",
       "South       2.919708\n",
       "West       11.559633\n",
       "Name: Order ID, dtype: float64"
      ]
     },
     "execution_count": 101,
     "metadata": {},
     "output_type": "execute_result"
    }
   ],
   "source": [
    "Percentage_returns_by_regions"
   ]
  },
  {
   "cell_type": "code",
   "execution_count": 102,
   "id": "7d951a21",
   "metadata": {},
   "outputs": [
    {
     "name": "stdout",
     "output_type": "stream",
     "text": [
      "The region with highest percentage of returns is West with percentage of 11.559633027522937\n"
     ]
    }
   ],
   "source": [
    "# displaying the result\n",
    "print('The region with highest percentage of returns is',Percentage_returns_by_regions.idxmax(),'with percentage of' ,Percentage_returns_by_regions.max())"
   ]
  },
  {
   "cell_type": "code",
   "execution_count": 103,
   "id": "2040d2dd",
   "metadata": {},
   "outputs": [],
   "source": [
    "import seaborn as sns\n",
    "import matplotlib.pyplot as plt"
   ]
  },
  {
   "cell_type": "code",
   "execution_count": 104,
   "id": "8dc093d1",
   "metadata": {},
   "outputs": [
    {
     "data": {
      "image/png": "[encoded data removed]",
      "text/plain": [
       "<Figure size 640x480 with 1 Axes>"
      ]
     },
     "metadata": {},
     "output_type": "display_data"
    }
   ],
   "source": [
    "# displaying the results of Percentage of returns of each region using bar chart.\n",
    "Percentage_returns_by_regions.plot(kind = 'bar')\n",
    "plt.ylabel('Percentage')\n",
    "plt.title ('Percentage of Returns')\n",
    "plt.show()"
   ]
  },
  {
   "cell_type": "markdown",
   "id": "a7c2776c",
   "metadata": {},
   "source": [
    "### Method2"
   ]
  },
  {
   "cell_type": "code",
   "execution_count": 105,
   "id": "f3a86b9b",
   "metadata": {},
   "outputs": [
    {
     "name": "stdout",
     "output_type": "stream",
     "text": [
      "Percentage of region  Central  is  13.175675675675674\n",
      "Percentage of region  East  is  14.864864864864865\n",
      "Percentage of region  South  is  8.108108108108109\n",
      "Percentage of region  West  is  63.85135135135135\n",
      "\n",
      "\n",
      "Region with the highest percentage of Returns is : West with 63.85135135135135 percent\n"
     ]
    }
   ],
   "source": [
    "max_percentage = 0\n",
    "max_percentage_region = \" \"\n",
    "\n",
    "for i in range(orders_returned_df['Region'].nunique()):\n",
    "    Percentage = (returned_by_regions[i]/Returned_Orders)*100\n",
    "    print(\"Percentage of region \",returned_by_regions.index[i],\" is \",Percentage) \n",
    "    \n",
    "    if Percentage > max_percentage:\n",
    "        max_percentage = Percentage\n",
    "        max_percentage_region = returned_by_regions.index[i]\n",
    "print(\"\\n\")        \n",
    "print(\"Region with the highest percentage of Returns is :\", max_percentage_region, \"with\", max_percentage, \"percent\")        "
   ]
  }
 ],
 "metadata": {
  "kernelspec": {
   "display_name": "Python 3 (ipykernel)",
   "language": "python",
   "name": "python3"
  },
  "language_info": {
   "codemirror_mode": {
    "name": "ipython",
    "version": 3
   },
   "file_extension": ".py",
   "mimetype": "text/x-python",
   "name": "python",
   "nbconvert_exporter": "python",
   "pygments_lexer": "ipython3",
   "version": "3.11.0"
  }
 },
 "nbformat": 4,
 "nbformat_minor": 5
}
