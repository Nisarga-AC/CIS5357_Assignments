{
 "cells": [
  {
   "cell_type": "code",
   "execution_count": 1,
   "id": "ae076449",
   "metadata": {
    "_cell_guid": "b1076dfc-b9ad-4769-8c92-a6c4dae69d19",
    "_uuid": "8f2839f25d086af736a60e9eeb907d3b93b6e0e5",
    "execution": {
     "iopub.execute_input": "2023-10-20T04:04:38.494298Z",
     "iopub.status.busy": "2023-10-20T04:04:38.493959Z",
     "iopub.status.idle": "2023-10-20T04:04:40.803963Z",
     "shell.execute_reply": "2023-10-20T04:04:40.803118Z"
    },
    "papermill": {
     "duration": 2.319476,
     "end_time": "2023-10-20T04:04:40.806112",
     "exception": false,
     "start_time": "2023-10-20T04:04:38.486636",
     "status": "completed"
    },
    "tags": []
   },
   "outputs": [
    {
     "name": "stdout",
     "output_type": "stream",
     "text": [
      "/kaggle/input/heart-attack-prediction-dataset/heart_attack_prediction_dataset.csv\n"
     ]
    }
   ],
   "source": [
    "# This Python 3 environment comes with many helpful analytics libraries installed\n",
    "# It is defined by the kaggle/python Docker image: https://github.com/kaggle/docker-python\n",
    "# For example, here's several helpful packages to load\n",
    "\n",
    "import numpy as np # linear algebra\n",
    "import pandas as pd # data processing, CSV file I/O (e.g. pd.read_csv)\n",
    "import matplotlib.pyplot as plt\n",
    "import seaborn as sns\n",
    "from sklearn import preprocessing \n",
    "from sklearn.preprocessing import MinMaxScaler\n",
    "\n",
    "label_encoder = preprocessing.LabelEncoder()\n",
    "scaler = MinMaxScaler()\n",
    "\n",
    "from sklearn.linear_model import LogisticRegression\n",
    "from sklearn.ensemble import RandomForestClassifier\n",
    "\n",
    "\n",
    "# Input data files are available in the read-only \"../input/\" directory\n",
    "# For example, running this (by clicking run or pressing Shift+Enter) will list all files under the input directory\n",
    "\n",
    "import os\n",
    "for dirname, _, filenames in os.walk('/kaggle/input'):\n",
    "    for filename in filenames:\n",
    "        print(os.path.join(dirname, filename))\n",
    "\n",
    "# You can write up to 20GB to the current directory (/kaggle/working/) that gets preserved as output when you create a version using \"Save & Run All\" \n",
    "# You can also write temporary files to /kaggle/temp/, but they won't be saved outside of the current session"
   ]
  },
  {
   "cell_type": "code",
   "execution_count": 2,
   "id": "7b239c7e",
   "metadata": {
    "execution": {
     "iopub.execute_input": "2023-10-20T04:04:40.815196Z",
     "iopub.status.busy": "2023-10-20T04:04:40.814706Z",
     "iopub.status.idle": "2023-10-20T04:04:40.873063Z",
     "shell.execute_reply": "2023-10-20T04:04:40.871474Z"
    },
    "papermill": {
     "duration": 0.065239,
     "end_time": "2023-10-20T04:04:40.875336",
     "exception": false,
     "start_time": "2023-10-20T04:04:40.810097",
     "status": "completed"
    },
    "tags": []
   },
   "outputs": [],
   "source": [
    "data = pd.read_csv(r\"/kaggle/input/heart-attack-prediction-dataset/heart_attack_prediction_dataset.csv\")"
   ]
  },
  {
   "cell_type": "code",
   "execution_count": 3,
   "id": "f7fddf80",
   "metadata": {
    "execution": {
     "iopub.execute_input": "2023-10-20T04:04:40.884010Z",
     "iopub.status.busy": "2023-10-20T04:04:40.883723Z",
     "iopub.status.idle": "2023-10-20T04:04:40.917992Z",
     "shell.execute_reply": "2023-10-20T04:04:40.917294Z"
    },
    "papermill": {
     "duration": 0.040346,
     "end_time": "2023-10-20T04:04:40.919536",
     "exception": false,
     "start_time": "2023-10-20T04:04:40.879190",
     "status": "completed"
    },
    "tags": []
   },
   "outputs": [
    {
     "data": {
      "text/html": [
       "<div>\n",
       "<style scoped>\n",
       "    .dataframe tbody tr th:only-of-type {\n",
       "        vertical-align: middle;\n",
       "    }\n",
       "\n",
       "    .dataframe tbody tr th {\n",
       "        vertical-align: top;\n",
       "    }\n",
       "\n",
       "    .dataframe thead th {\n",
       "        text-align: right;\n",
       "    }\n",
       "</style>\n",
       "<table border=\"1\" class=\"dataframe\">\n",
       "  <thead>\n",
       "    <tr style=\"text-align: right;\">\n",
       "      <th></th>\n",
       "      <th>Patient ID</th>\n",
       "      <th>Age</th>\n",
       "      <th>Sex</th>\n",
       "      <th>Cholesterol</th>\n",
       "      <th>Blood Pressure</th>\n",
       "      <th>Heart Rate</th>\n",
       "      <th>Diabetes</th>\n",
       "      <th>Family History</th>\n",
       "      <th>Smoking</th>\n",
       "      <th>Obesity</th>\n",
       "      <th>...</th>\n",
       "      <th>Sedentary Hours Per Day</th>\n",
       "      <th>Income</th>\n",
       "      <th>BMI</th>\n",
       "      <th>Triglycerides</th>\n",
       "      <th>Physical Activity Days Per Week</th>\n",
       "      <th>Sleep Hours Per Day</th>\n",
       "      <th>Country</th>\n",
       "      <th>Continent</th>\n",
       "      <th>Hemisphere</th>\n",
       "      <th>Heart Attack Risk</th>\n",
       "    </tr>\n",
       "  </thead>\n",
       "  <tbody>\n",
       "    <tr>\n",
       "      <th>0</th>\n",
       "      <td>BMW7812</td>\n",
       "      <td>67</td>\n",
       "      <td>Male</td>\n",
       "      <td>208</td>\n",
       "      <td>158/88</td>\n",
       "      <td>72</td>\n",
       "      <td>0</td>\n",
       "      <td>0</td>\n",
       "      <td>1</td>\n",
       "      <td>0</td>\n",
       "      <td>...</td>\n",
       "      <td>6.615001</td>\n",
       "      <td>261404</td>\n",
       "      <td>31.251233</td>\n",
       "      <td>286</td>\n",
       "      <td>0</td>\n",
       "      <td>6</td>\n",
       "      <td>Argentina</td>\n",
       "      <td>South America</td>\n",
       "      <td>Southern Hemisphere</td>\n",
       "      <td>0</td>\n",
       "    </tr>\n",
       "    <tr>\n",
       "      <th>1</th>\n",
       "      <td>CZE1114</td>\n",
       "      <td>21</td>\n",
       "      <td>Male</td>\n",
       "      <td>389</td>\n",
       "      <td>165/93</td>\n",
       "      <td>98</td>\n",
       "      <td>1</td>\n",
       "      <td>1</td>\n",
       "      <td>1</td>\n",
       "      <td>1</td>\n",
       "      <td>...</td>\n",
       "      <td>4.963459</td>\n",
       "      <td>285768</td>\n",
       "      <td>27.194973</td>\n",
       "      <td>235</td>\n",
       "      <td>1</td>\n",
       "      <td>7</td>\n",
       "      <td>Canada</td>\n",
       "      <td>North America</td>\n",
       "      <td>Northern Hemisphere</td>\n",
       "      <td>0</td>\n",
       "    </tr>\n",
       "    <tr>\n",
       "      <th>2</th>\n",
       "      <td>BNI9906</td>\n",
       "      <td>21</td>\n",
       "      <td>Female</td>\n",
       "      <td>324</td>\n",
       "      <td>174/99</td>\n",
       "      <td>72</td>\n",
       "      <td>1</td>\n",
       "      <td>0</td>\n",
       "      <td>0</td>\n",
       "      <td>0</td>\n",
       "      <td>...</td>\n",
       "      <td>9.463426</td>\n",
       "      <td>235282</td>\n",
       "      <td>28.176571</td>\n",
       "      <td>587</td>\n",
       "      <td>4</td>\n",
       "      <td>4</td>\n",
       "      <td>France</td>\n",
       "      <td>Europe</td>\n",
       "      <td>Northern Hemisphere</td>\n",
       "      <td>0</td>\n",
       "    </tr>\n",
       "    <tr>\n",
       "      <th>3</th>\n",
       "      <td>JLN3497</td>\n",
       "      <td>84</td>\n",
       "      <td>Male</td>\n",
       "      <td>383</td>\n",
       "      <td>163/100</td>\n",
       "      <td>73</td>\n",
       "      <td>1</td>\n",
       "      <td>1</td>\n",
       "      <td>1</td>\n",
       "      <td>0</td>\n",
       "      <td>...</td>\n",
       "      <td>7.648981</td>\n",
       "      <td>125640</td>\n",
       "      <td>36.464704</td>\n",
       "      <td>378</td>\n",
       "      <td>3</td>\n",
       "      <td>4</td>\n",
       "      <td>Canada</td>\n",
       "      <td>North America</td>\n",
       "      <td>Northern Hemisphere</td>\n",
       "      <td>0</td>\n",
       "    </tr>\n",
       "    <tr>\n",
       "      <th>4</th>\n",
       "      <td>GFO8847</td>\n",
       "      <td>66</td>\n",
       "      <td>Male</td>\n",
       "      <td>318</td>\n",
       "      <td>91/88</td>\n",
       "      <td>93</td>\n",
       "      <td>1</td>\n",
       "      <td>1</td>\n",
       "      <td>1</td>\n",
       "      <td>1</td>\n",
       "      <td>...</td>\n",
       "      <td>1.514821</td>\n",
       "      <td>160555</td>\n",
       "      <td>21.809144</td>\n",
       "      <td>231</td>\n",
       "      <td>1</td>\n",
       "      <td>5</td>\n",
       "      <td>Thailand</td>\n",
       "      <td>Asia</td>\n",
       "      <td>Northern Hemisphere</td>\n",
       "      <td>0</td>\n",
       "    </tr>\n",
       "  </tbody>\n",
       "</table>\n",
       "<p>5 rows × 26 columns</p>\n",
       "</div>"
      ],
      "text/plain": [
       "  Patient ID  Age     Sex  Cholesterol Blood Pressure  Heart Rate  Diabetes  \\\n",
       "0    BMW7812   67    Male          208         158/88          72         0   \n",
       "1    CZE1114   21    Male          389         165/93          98         1   \n",
       "2    BNI9906   21  Female          324         174/99          72         1   \n",
       "3    JLN3497   84    Male          383        163/100          73         1   \n",
       "4    GFO8847   66    Male          318          91/88          93         1   \n",
       "\n",
       "   Family History  Smoking  Obesity  ...  Sedentary Hours Per Day  Income  \\\n",
       "0               0        1        0  ...                 6.615001  261404   \n",
       "1               1        1        1  ...                 4.963459  285768   \n",
       "2               0        0        0  ...                 9.463426  235282   \n",
       "3               1        1        0  ...                 7.648981  125640   \n",
       "4               1        1        1  ...                 1.514821  160555   \n",
       "\n",
       "         BMI  Triglycerides  Physical Activity Days Per Week  \\\n",
       "0  31.251233            286                                0   \n",
       "1  27.194973            235                                1   \n",
       "2  28.176571            587                                4   \n",
       "3  36.464704            378                                3   \n",
       "4  21.809144            231                                1   \n",
       "\n",
       "   Sleep Hours Per Day    Country      Continent           Hemisphere  \\\n",
       "0                    6  Argentina  South America  Southern Hemisphere   \n",
       "1                    7     Canada  North America  Northern Hemisphere   \n",
       "2                    4     France         Europe  Northern Hemisphere   \n",
       "3                    4     Canada  North America  Northern Hemisphere   \n",
       "4                    5   Thailand           Asia  Northern Hemisphere   \n",
       "\n",
       "   Heart Attack Risk  \n",
       "0                  0  \n",
       "1                  0  \n",
       "2                  0  \n",
       "3                  0  \n",
       "4                  0  \n",
       "\n",
       "[5 rows x 26 columns]"
      ]
     },
     "execution_count": 3,
     "metadata": {},
     "output_type": "execute_result"
    }
   ],
   "source": [
    "data.head()"
   ]
  },
  {
   "cell_type": "code",
   "execution_count": 4,
   "id": "88c0b9ea",
   "metadata": {
    "execution": {
     "iopub.execute_input": "2023-10-20T04:04:40.929869Z",
     "iopub.status.busy": "2023-10-20T04:04:40.928825Z",
     "iopub.status.idle": "2023-10-20T04:04:40.939549Z",
     "shell.execute_reply": "2023-10-20T04:04:40.938424Z"
    },
    "papermill": {
     "duration": 0.018289,
     "end_time": "2023-10-20T04:04:40.941843",
     "exception": false,
     "start_time": "2023-10-20T04:04:40.923554",
     "status": "completed"
    },
    "tags": []
   },
   "outputs": [],
   "source": [
    "data = data.drop(['Patient ID'],axis = 1)"
   ]
  },
  {
   "cell_type": "code",
   "execution_count": 5,
   "id": "619dfa61",
   "metadata": {
    "execution": {
     "iopub.execute_input": "2023-10-20T04:04:40.951422Z",
     "iopub.status.busy": "2023-10-20T04:04:40.951080Z",
     "iopub.status.idle": "2023-10-20T04:04:40.964327Z",
     "shell.execute_reply": "2023-10-20T04:04:40.962855Z"
    },
    "papermill": {
     "duration": 0.019695,
     "end_time": "2023-10-20T04:04:40.966131",
     "exception": false,
     "start_time": "2023-10-20T04:04:40.946436",
     "status": "completed"
    },
    "tags": []
   },
   "outputs": [],
   "source": [
    "data['Sex']= label_encoder.fit_transform(data['Sex'])\n",
    "data['Country']= label_encoder.fit_transform(data['Country'])\n",
    "data['Hemisphere']= label_encoder.fit_transform(data['Hemisphere'])\n",
    "data['Continent']= label_encoder.fit_transform(data['Continent'])\n",
    "data['Diet']= label_encoder.fit_transform(data['Diet'])"
   ]
  },
  {
   "cell_type": "code",
   "execution_count": 6,
   "id": "3e9424d0",
   "metadata": {
    "execution": {
     "iopub.execute_input": "2023-10-20T04:04:40.974982Z",
     "iopub.status.busy": "2023-10-20T04:04:40.974683Z",
     "iopub.status.idle": "2023-10-20T04:04:40.983969Z",
     "shell.execute_reply": "2023-10-20T04:04:40.982919Z"
    },
    "papermill": {
     "duration": 0.016119,
     "end_time": "2023-10-20T04:04:40.986128",
     "exception": false,
     "start_time": "2023-10-20T04:04:40.970009",
     "status": "completed"
    },
    "tags": []
   },
   "outputs": [
    {
     "data": {
      "text/plain": [
       "array([ 0,  3,  6, 16,  7, 10,  2, 13, 18, 19,  4,  9, 15,  8, 12, 11, 14,\n",
       "        1,  5, 17])"
      ]
     },
     "execution_count": 6,
     "metadata": {},
     "output_type": "execute_result"
    }
   ],
   "source": [
    "data['Country'].unique()"
   ]
  },
  {
   "cell_type": "code",
   "execution_count": 7,
   "id": "eff82781",
   "metadata": {
    "execution": {
     "iopub.execute_input": "2023-10-20T04:04:40.995962Z",
     "iopub.status.busy": "2023-10-20T04:04:40.995302Z",
     "iopub.status.idle": "2023-10-20T04:04:41.000922Z",
     "shell.execute_reply": "2023-10-20T04:04:41.000215Z"
    },
    "papermill": {
     "duration": 0.012844,
     "end_time": "2023-10-20T04:04:41.003184",
     "exception": false,
     "start_time": "2023-10-20T04:04:40.990340",
     "status": "completed"
    },
    "tags": []
   },
   "outputs": [
    {
     "data": {
      "text/plain": [
       "array([5, 4, 3, 1, 0, 2])"
      ]
     },
     "execution_count": 7,
     "metadata": {},
     "output_type": "execute_result"
    }
   ],
   "source": [
    "data['Continent'].unique()"
   ]
  },
  {
   "cell_type": "code",
   "execution_count": 8,
   "id": "7fe888a9",
   "metadata": {
    "execution": {
     "iopub.execute_input": "2023-10-20T04:04:41.013338Z",
     "iopub.status.busy": "2023-10-20T04:04:41.012756Z",
     "iopub.status.idle": "2023-10-20T04:04:41.018204Z",
     "shell.execute_reply": "2023-10-20T04:04:41.017155Z"
    },
    "papermill": {
     "duration": 0.013104,
     "end_time": "2023-10-20T04:04:41.020567",
     "exception": false,
     "start_time": "2023-10-20T04:04:41.007463",
     "status": "completed"
    },
    "tags": []
   },
   "outputs": [
    {
     "data": {
      "text/plain": [
       "array([1, 0])"
      ]
     },
     "execution_count": 8,
     "metadata": {},
     "output_type": "execute_result"
    }
   ],
   "source": [
    "data['Hemisphere'].unique()"
   ]
  },
  {
   "cell_type": "code",
   "execution_count": 9,
   "id": "10c2176c",
   "metadata": {
    "execution": {
     "iopub.execute_input": "2023-10-20T04:04:41.030507Z",
     "iopub.status.busy": "2023-10-20T04:04:41.030000Z",
     "iopub.status.idle": "2023-10-20T04:04:41.255805Z",
     "shell.execute_reply": "2023-10-20T04:04:41.254098Z"
    },
    "papermill": {
     "duration": 0.233284,
     "end_time": "2023-10-20T04:04:41.258096",
     "exception": false,
     "start_time": "2023-10-20T04:04:41.024812",
     "status": "completed"
    },
    "tags": []
   },
   "outputs": [
    {
     "data": {
      "text/plain": [
       "<Axes: xlabel='Hemisphere'>"
      ]
     },
     "execution_count": 9,
     "metadata": {},
     "output_type": "execute_result"
    },
    {
     "data": {
      "image/png": "[encoded data removed]",
      "text/plain": [
       "<Figure size 640x480 with 1 Axes>"
      ]
     },
     "metadata": {},
     "output_type": "display_data"
    }
   ],
   "source": [
    "pd.crosstab(data['Hemisphere'], data['Heart Attack Risk']).plot(kind='bar', stacked=True)"
   ]
  },
  {
   "cell_type": "code",
   "execution_count": 10,
   "id": "8671f482",
   "metadata": {
    "execution": {
     "iopub.execute_input": "2023-10-20T04:04:41.268852Z",
     "iopub.status.busy": "2023-10-20T04:04:41.268541Z",
     "iopub.status.idle": "2023-10-20T04:04:41.462318Z",
     "shell.execute_reply": "2023-10-20T04:04:41.461304Z"
    },
    "papermill": {
     "duration": 0.201385,
     "end_time": "2023-10-20T04:04:41.464261",
     "exception": false,
     "start_time": "2023-10-20T04:04:41.262876",
     "status": "completed"
    },
    "tags": []
   },
   "outputs": [
    {
     "data": {
      "text/plain": [
       "<Axes: xlabel='Continent'>"
      ]
     },
     "execution_count": 10,
     "metadata": {},
     "output_type": "execute_result"
    },
    {
     "data": {
      "image/png": "[encoded data removed]",
      "text/plain": [
       "<Figure size 640x480 with 1 Axes>"
      ]
     },
     "metadata": {},
     "output_type": "display_data"
    }
   ],
   "source": [
    "pd.crosstab(data['Continent'], data['Heart Attack Risk']).plot(kind='bar', stacked=True)"
   ]
  },
  {
   "cell_type": "code",
   "execution_count": 11,
   "id": "02a0dd7c",
   "metadata": {
    "execution": {
     "iopub.execute_input": "2023-10-20T04:04:41.475322Z",
     "iopub.status.busy": "2023-10-20T04:04:41.474288Z",
     "iopub.status.idle": "2023-10-20T04:04:41.762462Z",
     "shell.execute_reply": "2023-10-20T04:04:41.761094Z"
    },
    "papermill": {
     "duration": 0.295733,
     "end_time": "2023-10-20T04:04:41.764694",
     "exception": false,
     "start_time": "2023-10-20T04:04:41.468961",
     "status": "completed"
    },
    "tags": []
   },
   "outputs": [
    {
     "data": {
      "text/plain": [
       "<Axes: xlabel='Country'>"
      ]
     },
     "execution_count": 11,
     "metadata": {},
     "output_type": "execute_result"
    },
    {
     "data": {
      "image/png": "[encoded data removed]",
      "text/plain": [
       "<Figure size 640x480 with 1 Axes>"
      ]
     },
     "metadata": {},
     "output_type": "display_data"
    }
   ],
   "source": [
    "pd.crosstab(data['Country'], data['Heart Attack Risk']).plot(kind='bar', stacked=True)"
   ]
  },
  {
   "cell_type": "code",
   "execution_count": 12,
   "id": "0a8aae85",
   "metadata": {
    "execution": {
     "iopub.execute_input": "2023-10-20T04:04:41.776264Z",
     "iopub.status.busy": "2023-10-20T04:04:41.775236Z",
     "iopub.status.idle": "2023-10-20T04:04:41.949505Z",
     "shell.execute_reply": "2023-10-20T04:04:41.948470Z"
    },
    "papermill": {
     "duration": 0.182135,
     "end_time": "2023-10-20T04:04:41.951727",
     "exception": false,
     "start_time": "2023-10-20T04:04:41.769592",
     "status": "completed"
    },
    "tags": []
   },
   "outputs": [
    {
     "data": {
      "text/plain": [
       "<Axes: xlabel='Sex'>"
      ]
     },
     "execution_count": 12,
     "metadata": {},
     "output_type": "execute_result"
    },
    {
     "data": {
      "image/png": "[encoded data removed]",
      "text/plain": [
       "<Figure size 640x480 with 1 Axes>"
      ]
     },
     "metadata": {},
     "output_type": "display_data"
    }
   ],
   "source": [
    "pd.crosstab(data['Sex'], data['Sex']).plot(kind='bar', stacked=True)"
   ]
  },
  {
   "cell_type": "code",
   "execution_count": 13,
   "id": "04b09cb2",
   "metadata": {
    "execution": {
     "iopub.execute_input": "2023-10-20T04:04:41.963641Z",
     "iopub.status.busy": "2023-10-20T04:04:41.963299Z",
     "iopub.status.idle": "2023-10-20T04:04:41.987420Z",
     "shell.execute_reply": "2023-10-20T04:04:41.985920Z"
    },
    "papermill": {
     "duration": 0.032686,
     "end_time": "2023-10-20T04:04:41.989623",
     "exception": false,
     "start_time": "2023-10-20T04:04:41.956937",
     "status": "completed"
    },
    "tags": []
   },
   "outputs": [],
   "source": [
    "data[['Age']] = scaler.fit_transform(data[['Age']])\n",
    "data[['Cholesterol']] = scaler.fit_transform(data[['Cholesterol']])\n",
    "data[['Heart Rate']] = scaler.fit_transform(data[['Heart Rate']])\n",
    "data[['Income']] = scaler.fit_transform(data[['Income']])\n",
    "data[['Triglycerides']] = scaler.fit_transform(data[['Triglycerides']])"
   ]
  },
  {
   "cell_type": "code",
   "execution_count": 14,
   "id": "09003a20",
   "metadata": {
    "execution": {
     "iopub.execute_input": "2023-10-20T04:04:42.001359Z",
     "iopub.status.busy": "2023-10-20T04:04:42.001048Z",
     "iopub.status.idle": "2023-10-20T04:04:42.011276Z",
     "shell.execute_reply": "2023-10-20T04:04:42.009936Z"
    },
    "papermill": {
     "duration": 0.018024,
     "end_time": "2023-10-20T04:04:42.012933",
     "exception": false,
     "start_time": "2023-10-20T04:04:41.994909",
     "status": "completed"
    },
    "tags": []
   },
   "outputs": [],
   "source": [
    "def format_and_store(value):\n",
    "    return '{:.1f}'.format(value)\n",
    "\n",
    "# Apply the formatting function to the column\n",
    "data['Sedentary Hours Per Day'] = data['Sedentary Hours Per Day'].apply(format_and_store)"
   ]
  },
  {
   "cell_type": "code",
   "execution_count": 15,
   "id": "14996a5f",
   "metadata": {
    "execution": {
     "iopub.execute_input": "2023-10-20T04:04:42.024799Z",
     "iopub.status.busy": "2023-10-20T04:04:42.024497Z",
     "iopub.status.idle": "2023-10-20T04:04:42.033868Z",
     "shell.execute_reply": "2023-10-20T04:04:42.032590Z"
    },
    "papermill": {
     "duration": 0.017555,
     "end_time": "2023-10-20T04:04:42.035848",
     "exception": false,
     "start_time": "2023-10-20T04:04:42.018293",
     "status": "completed"
    },
    "tags": []
   },
   "outputs": [],
   "source": [
    "data['Blood Pressure'] = data['Blood Pressure'].apply(lambda x: int(x.split(\"/\")[0]))  \n"
   ]
  },
  {
   "cell_type": "code",
   "execution_count": 16,
   "id": "aff380b5",
   "metadata": {
    "execution": {
     "iopub.execute_input": "2023-10-20T04:04:42.047337Z",
     "iopub.status.busy": "2023-10-20T04:04:42.046992Z",
     "iopub.status.idle": "2023-10-20T04:04:42.055999Z",
     "shell.execute_reply": "2023-10-20T04:04:42.055064Z"
    },
    "papermill": {
     "duration": 0.016835,
     "end_time": "2023-10-20T04:04:42.057842",
     "exception": false,
     "start_time": "2023-10-20T04:04:42.041007",
     "status": "completed"
    },
    "tags": []
   },
   "outputs": [],
   "source": [
    "data['BMI'] = data['BMI'].apply(lambda x: int(x))\n"
   ]
  },
  {
   "cell_type": "code",
   "execution_count": 17,
   "id": "39d9cddb",
   "metadata": {
    "execution": {
     "iopub.execute_input": "2023-10-20T04:04:42.068987Z",
     "iopub.status.busy": "2023-10-20T04:04:42.068719Z",
     "iopub.status.idle": "2023-10-20T04:04:42.074178Z",
     "shell.execute_reply": "2023-10-20T04:04:42.073386Z"
    },
    "papermill": {
     "duration": 0.012759,
     "end_time": "2023-10-20T04:04:42.075537",
     "exception": false,
     "start_time": "2023-10-20T04:04:42.062778",
     "status": "completed"
    },
    "tags": []
   },
   "outputs": [
    {
     "data": {
      "text/plain": [
       "Index(['Age', 'Sex', 'Cholesterol', 'Blood Pressure', 'Heart Rate', 'Diabetes',\n",
       "       'Family History', 'Smoking', 'Obesity', 'Alcohol Consumption',\n",
       "       'Exercise Hours Per Week', 'Diet', 'Previous Heart Problems',\n",
       "       'Medication Use', 'Stress Level', 'Sedentary Hours Per Day', 'Income',\n",
       "       'BMI', 'Triglycerides', 'Physical Activity Days Per Week',\n",
       "       'Sleep Hours Per Day', 'Country', 'Continent', 'Hemisphere',\n",
       "       'Heart Attack Risk'],\n",
       "      dtype='object')"
      ]
     },
     "execution_count": 17,
     "metadata": {},
     "output_type": "execute_result"
    }
   ],
   "source": [
    "data.columns"
   ]
  },
  {
   "cell_type": "code",
   "execution_count": 18,
   "id": "ecdc9d55",
   "metadata": {
    "execution": {
     "iopub.execute_input": "2023-10-20T04:04:42.088617Z",
     "iopub.status.busy": "2023-10-20T04:04:42.088257Z",
     "iopub.status.idle": "2023-10-20T04:04:42.096843Z",
     "shell.execute_reply": "2023-10-20T04:04:42.095734Z"
    },
    "papermill": {
     "duration": 0.016453,
     "end_time": "2023-10-20T04:04:42.098620",
     "exception": false,
     "start_time": "2023-10-20T04:04:42.082167",
     "status": "completed"
    },
    "tags": []
   },
   "outputs": [
    {
     "data": {
      "text/plain": [
       "0        4.168189\n",
       "1        1.813242\n",
       "2        2.078353\n",
       "3        9.828130\n",
       "4        5.804299\n",
       "          ...    \n",
       "8758     7.917342\n",
       "8759    16.558426\n",
       "8760     3.148438\n",
       "8761     3.789950\n",
       "8762    18.081748\n",
       "Name: Exercise Hours Per Week, Length: 8763, dtype: float64"
      ]
     },
     "execution_count": 18,
     "metadata": {},
     "output_type": "execute_result"
    }
   ],
   "source": [
    "data['Exercise Hours Per Week']"
   ]
  },
  {
   "cell_type": "code",
   "execution_count": 19,
   "id": "b87cbd43",
   "metadata": {
    "execution": {
     "iopub.execute_input": "2023-10-20T04:04:42.111360Z",
     "iopub.status.busy": "2023-10-20T04:04:42.110652Z",
     "iopub.status.idle": "2023-10-20T04:04:42.118954Z",
     "shell.execute_reply": "2023-10-20T04:04:42.117558Z"
    },
    "papermill": {
     "duration": 0.01689,
     "end_time": "2023-10-20T04:04:42.121073",
     "exception": false,
     "start_time": "2023-10-20T04:04:42.104183",
     "status": "completed"
    },
    "tags": []
   },
   "outputs": [
    {
     "data": {
      "text/plain": [
       "0       9\n",
       "1       1\n",
       "2       9\n",
       "3       9\n",
       "4       6\n",
       "       ..\n",
       "8758    8\n",
       "8759    8\n",
       "8760    5\n",
       "8761    5\n",
       "8762    8\n",
       "Name: Stress Level, Length: 8763, dtype: int64"
      ]
     },
     "execution_count": 19,
     "metadata": {},
     "output_type": "execute_result"
    }
   ],
   "source": [
    "data['Stress Level']\n"
   ]
  },
  {
   "cell_type": "code",
   "execution_count": 20,
   "id": "288b12ad",
   "metadata": {
    "execution": {
     "iopub.execute_input": "2023-10-20T04:04:42.133413Z",
     "iopub.status.busy": "2023-10-20T04:04:42.133018Z",
     "iopub.status.idle": "2023-10-20T04:04:42.140077Z",
     "shell.execute_reply": "2023-10-20T04:04:42.138550Z"
    },
    "papermill": {
     "duration": 0.01544,
     "end_time": "2023-10-20T04:04:42.142072",
     "exception": false,
     "start_time": "2023-10-20T04:04:42.126632",
     "status": "completed"
    },
    "tags": []
   },
   "outputs": [],
   "source": [
    "X = data.drop('Heart Attack Risk',axis = 1)\n",
    "Y = data['Heart Attack Risk']"
   ]
  },
  {
   "cell_type": "code",
   "execution_count": 21,
   "id": "a689bdd5",
   "metadata": {
    "execution": {
     "iopub.execute_input": "2023-10-20T04:04:42.154415Z",
     "iopub.status.busy": "2023-10-20T04:04:42.153551Z",
     "iopub.status.idle": "2023-10-20T04:04:42.163356Z",
     "shell.execute_reply": "2023-10-20T04:04:42.162377Z"
    },
    "papermill": {
     "duration": 0.018022,
     "end_time": "2023-10-20T04:04:42.165400",
     "exception": false,
     "start_time": "2023-10-20T04:04:42.147378",
     "status": "completed"
    },
    "tags": []
   },
   "outputs": [],
   "source": [
    "from sklearn.model_selection import train_test_split\n",
    "X_train, X_test, y_train, y_test = train_test_split(X, Y, test_size=0.15, random_state=13)"
   ]
  },
  {
   "cell_type": "code",
   "execution_count": 22,
   "id": "0fc8b120",
   "metadata": {
    "execution": {
     "iopub.execute_input": "2023-10-20T04:04:42.177780Z",
     "iopub.status.busy": "2023-10-20T04:04:42.177450Z",
     "iopub.status.idle": "2023-10-20T04:04:43.585004Z",
     "shell.execute_reply": "2023-10-20T04:04:43.583567Z"
    },
    "papermill": {
     "duration": 1.416008,
     "end_time": "2023-10-20T04:04:43.587081",
     "exception": false,
     "start_time": "2023-10-20T04:04:42.171073",
     "status": "completed"
    },
    "tags": []
   },
   "outputs": [
    {
     "name": "stdout",
     "output_type": "stream",
     "text": [
      "Accuracy: 61.97718631178707\n"
     ]
    }
   ],
   "source": [
    "from sklearn.metrics import accuracy_score\n",
    "RForest_clf = RandomForestClassifier(n_estimators = 100)\n",
    "RForest_clf.fit(X_train, y_train)\n",
    "y_pred = RForest_clf.predict(X_test)\n",
    "accuracy = accuracy_score(y_test, y_pred)*100\n",
    "print(f'Accuracy: {accuracy}')"
   ]
  },
  {
   "cell_type": "code",
   "execution_count": 23,
   "id": "caf25256",
   "metadata": {
    "execution": {
     "iopub.execute_input": "2023-10-20T04:04:43.599340Z",
     "iopub.status.busy": "2023-10-20T04:04:43.598956Z",
     "iopub.status.idle": "2023-10-20T04:04:43.649462Z",
     "shell.execute_reply": "2023-10-20T04:04:43.648784Z"
    },
    "papermill": {
     "duration": 0.058787,
     "end_time": "2023-10-20T04:04:43.651266",
     "exception": false,
     "start_time": "2023-10-20T04:04:43.592479",
     "status": "completed"
    },
    "tags": []
   },
   "outputs": [
    {
     "data": {
      "text/plain": [
       "62.58555133079848"
      ]
     },
     "execution_count": 23,
     "metadata": {},
     "output_type": "execute_result"
    }
   ],
   "source": [
    "lr = LogisticRegression(max_iter=1000)\n",
    "from sklearn.preprocessing import StandardScaler\n",
    "scaler = StandardScaler()\n",
    "X_train = scaler.fit_transform(X_train)\n",
    "X_test = scaler.transform(X_test)\n",
    "lr.fit(X_train,y_train)\n",
    "predicted = lr.predict(X_test)\n",
    "lr.score(X_test,y_test)*100"
   ]
  }
 ],
 "metadata": {
  "kernelspec": {
   "display_name": "Python 3 (ipykernel)",
   "language": "python",
   "name": "python3"
  },
  "language_info": {
   "codemirror_mode": {
    "name": "ipython",
    "version": 3
   },
   "file_extension": ".py",
   "mimetype": "text/x-python",
   "name": "python",
   "nbconvert_exporter": "python",
   "pygments_lexer": "ipython3",
   "version": "3.11.0"
  },
  "papermill": {
   "default_parameters": {},
   "duration": 8.275734,
   "end_time": "2023-10-20T04:04:44.279090",
   "environment_variables": {},
   "exception": null,
   "input_path": "__notebook__.ipynb",
   "output_path": "__notebook__.ipynb",
   "parameters": {},
   "start_time": "2023-10-20T04:04:36.003356",
   "version": "2.4.0"
  }
 },
 "nbformat": 4,
 "nbformat_minor": 5
}
